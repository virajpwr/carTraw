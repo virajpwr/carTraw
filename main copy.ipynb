{
 "cells": [
  {
   "cell_type": "code",
   "execution_count": 21,
   "metadata": {},
   "outputs": [],
   "source": [
    "import pandas as pd\n",
    "from scipy.stats import boxcox\n",
    "import matplotlib.pyplot as plt\n",
    "from scipy.stats import shapiro\n",
    "import yaml\n",
    "from utils import *\n",
    "\n",
    "df = pd.read_csv('./data/data.csv', sep='|', header=None)\n",
    "# show all columns\n",
    "pd.set_option('display.max_columns', None)"
   ]
  },
  {
   "cell_type": "code",
   "execution_count": 22,
   "metadata": {},
   "outputs": [],
   "source": [
    "# load config file containing the column names based on datatype.\n",
    "config = load_config(\"./config.yml\")"
   ]
  },
  {
   "cell_type": "markdown",
   "metadata": {},
   "source": [
    "#### Rename columns"
   ]
  },
  {
   "cell_type": "code",
   "execution_count": 23,
   "metadata": {},
   "outputs": [],
   "source": [
    "'''rename columns with the following: query_id, veh_id, query_date, car_feature_1, car_feature_2, price, car_feature_3, car_feature_4, car_feature_5, cont_car_feature_1,\n",
    "    cont_car_feature_2, cont_car_feature_3, car_feature_6, car_feature_7, car_feature_8, cont_car_feature_3,car_feature_9, car_feature_10,car_feature_11, query_feature_1,\n",
    "     query_feature_2, duration, pickup_date,  query_feature_3, target\n",
    "'''\n",
    "df.columns = ['query_id', 'veh_id', 'query_date', 'car_feature_1', 'car_feature_2', 'price', 'car_feature_3', 'car_feature_4', 'car_feature_5', 'cont_car_feature_1', 'cont_car_feature_2', 'cont_car_feature_3', 'car_feature_6', 'car_feature_7', 'car_feature_8', 'cont_car_feature_4', 'car_feature_9', 'car_feature_10', 'car_feature_11', 'query_feature_1', 'query_feature_2', 'duration', 'pickup_date', 'query_feature_3', 'target']\n",
    "\n",
    "df[config['cat_cols']] = df[config['cat_cols']].astype('category')"
   ]
  },
  {
   "cell_type": "code",
   "execution_count": 24,
   "metadata": {},
   "outputs": [
    {
     "data": {
      "text/html": [
       "<div>\n",
       "<style scoped>\n",
       "    .dataframe tbody tr th:only-of-type {\n",
       "        vertical-align: middle;\n",
       "    }\n",
       "\n",
       "    .dataframe tbody tr th {\n",
       "        vertical-align: top;\n",
       "    }\n",
       "\n",
       "    .dataframe thead th {\n",
       "        text-align: right;\n",
       "    }\n",
       "</style>\n",
       "<table border=\"1\" class=\"dataframe\">\n",
       "  <thead>\n",
       "    <tr style=\"text-align: right;\">\n",
       "      <th></th>\n",
       "      <th>query_id</th>\n",
       "      <th>veh_id</th>\n",
       "      <th>query_date</th>\n",
       "      <th>car_feature_1</th>\n",
       "      <th>car_feature_2</th>\n",
       "      <th>price</th>\n",
       "      <th>car_feature_3</th>\n",
       "      <th>car_feature_4</th>\n",
       "      <th>car_feature_5</th>\n",
       "      <th>cont_car_feature_1</th>\n",
       "      <th>cont_car_feature_2</th>\n",
       "      <th>cont_car_feature_3</th>\n",
       "      <th>car_feature_6</th>\n",
       "      <th>car_feature_7</th>\n",
       "      <th>car_feature_8</th>\n",
       "      <th>cont_car_feature_4</th>\n",
       "      <th>car_feature_9</th>\n",
       "      <th>car_feature_10</th>\n",
       "      <th>car_feature_11</th>\n",
       "      <th>query_feature_1</th>\n",
       "      <th>query_feature_2</th>\n",
       "      <th>duration</th>\n",
       "      <th>pickup_date</th>\n",
       "      <th>query_feature_3</th>\n",
       "      <th>target</th>\n",
       "    </tr>\n",
       "  </thead>\n",
       "  <tbody>\n",
       "    <tr>\n",
       "      <th>0</th>\n",
       "      <td>102120401529162609</td>\n",
       "      <td>1001396153</td>\n",
       "      <td>2017-01-02 12:04:01</td>\n",
       "      <td>2</td>\n",
       "      <td>1</td>\n",
       "      <td>750.26</td>\n",
       "      <td>2</td>\n",
       "      <td>1</td>\n",
       "      <td>1</td>\n",
       "      <td>5</td>\n",
       "      <td>1</td>\n",
       "      <td>7</td>\n",
       "      <td>1</td>\n",
       "      <td>0</td>\n",
       "      <td>8</td>\n",
       "      <td>8.0</td>\n",
       "      <td>385</td>\n",
       "      <td>3</td>\n",
       "      <td>1</td>\n",
       "      <td>1</td>\n",
       "      <td>2</td>\n",
       "      <td>14.0</td>\n",
       "      <td>2017-02-04 00:00:00</td>\n",
       "      <td>71</td>\n",
       "      <td>0</td>\n",
       "    </tr>\n",
       "    <tr>\n",
       "      <th>1</th>\n",
       "      <td>102120401529162609</td>\n",
       "      <td>401793302</td>\n",
       "      <td>2017-01-02 12:04:01</td>\n",
       "      <td>2</td>\n",
       "      <td>1</td>\n",
       "      <td>322.12</td>\n",
       "      <td>4</td>\n",
       "      <td>1</td>\n",
       "      <td>1</td>\n",
       "      <td>5</td>\n",
       "      <td>5</td>\n",
       "      <td>5</td>\n",
       "      <td>0</td>\n",
       "      <td>0</td>\n",
       "      <td>4</td>\n",
       "      <td>6.0</td>\n",
       "      <td>1368</td>\n",
       "      <td>3</td>\n",
       "      <td>0</td>\n",
       "      <td>1</td>\n",
       "      <td>2</td>\n",
       "      <td>14.0</td>\n",
       "      <td>2017-02-04 00:00:00</td>\n",
       "      <td>71</td>\n",
       "      <td>0</td>\n",
       "    </tr>\n",
       "  </tbody>\n",
       "</table>\n",
       "</div>"
      ],
      "text/plain": [
       "             query_id      veh_id           query_date car_feature_1  \\\n",
       "0  102120401529162609  1001396153  2017-01-02 12:04:01             2   \n",
       "1  102120401529162609   401793302  2017-01-02 12:04:01             2   \n",
       "\n",
       "  car_feature_2   price car_feature_3 car_feature_4 car_feature_5  \\\n",
       "0             1  750.26             2             1             1   \n",
       "1             1  322.12             4             1             1   \n",
       "\n",
       "   cont_car_feature_1  cont_car_feature_2  cont_car_feature_3 car_feature_6  \\\n",
       "0                   5                   1                   7             1   \n",
       "1                   5                   5                   5             0   \n",
       "\n",
       "  car_feature_7 car_feature_8  cont_car_feature_4 car_feature_9  \\\n",
       "0             0             8                 8.0           385   \n",
       "1             0             4                 6.0          1368   \n",
       "\n",
       "  car_feature_10 car_feature_11 query_feature_1 query_feature_2 duration  \\\n",
       "0              3              1               1               2     14.0   \n",
       "1              3              0               1               2     14.0   \n",
       "\n",
       "           pickup_date query_feature_3 target  \n",
       "0  2017-02-04 00:00:00              71      0  \n",
       "1  2017-02-04 00:00:00              71      0  "
      ]
     },
     "execution_count": 24,
     "metadata": {},
     "output_type": "execute_result"
    }
   ],
   "source": [
    "df.head(2)"
   ]
  },
  {
   "cell_type": "code",
   "execution_count": 25,
   "metadata": {},
   "outputs": [
    {
     "name": "stdout",
     "output_type": "stream",
     "text": [
      "car_feature_1 [2, 1, 3]\n",
      "Categories (3, int64): [2, 1, 3]\n",
      "car_feature_2 [1, 0]\n",
      "Categories (2, int64): [1, 0]\n",
      "car_feature_3 [2, 4, 1, 11, 5, 0]\n",
      "Categories (6, int64): [2, 4, 1, 11, 5, 0]\n",
      "car_feature_4 [1, 9, 7, 8]\n",
      "Categories (4, int64): [1, 9, 7, 8]\n",
      "car_feature_5 [1, 2, 5, 3, 4]\n",
      "Categories (5, int64): [1, 2, 5, 3, 4]\n",
      "car_feature_6 [1, 0]\n",
      "Categories (2, int64): [1, 0]\n",
      "car_feature_7 [0, 1]\n",
      "Categories (2, int64): [0, 1]\n",
      "car_feature_8 [8, 4, 2, 1, 7, ..., 15, 13, 14, 12, 16]\n",
      "Length: 16\n",
      "Categories (16, int64): [8, 4, 2, 1, ..., 13, 14, 12, 16]\n",
      "car_feature_9 [385, 1368, 1741, 1912, 1960, ..., 2535, 2574, 1075, 1660, 2184]\n",
      "Length: 58\n",
      "Categories (58, int64): [385, 1368, 1741, 1912, ..., 2574, 1075, 1660, 2184]\n",
      "car_feature_10 [3, 2, 13, 15, 17, 12]\n",
      "Categories (6, int64): [3, 2, 13, 15, 17, 12]\n",
      "car_feature_11 [1, 0]\n",
      "Categories (2, int64): [1, 0]\n",
      "query_feature_1 [1, 7, 3, 15, 2, ..., 46, 39, 41, 36, 33]\n",
      "Length: 44\n",
      "Categories (44, int64): [1, 7, 3, 15, ..., 39, 41, 36, 33]\n",
      "query_feature_2 [2, 1]\n",
      "Categories (2, int64): [2, 1]\n",
      "query_feature_3 [71, 2492]\n",
      "Categories (2, int64): [71, 2492]\n",
      "duration [14  7 21  8  3 10  4  9 12 15 19 11  5  6  1 17 28 25 16 18 22 20 13 32\n",
      " 23  2 57 56 49 30 29 27 42 24 46 36 31 41 63 43 62 33 70 35 38 40 26 60\n",
      " 34 37 52 51 58 39 55]\n",
      "target [0, 1]\n",
      "Categories (2, int64): [0, 1]\n"
     ]
    }
   ],
   "source": [
    "# find unique values in categorical features\n",
    "\n",
    "df['duration'] = df['duration'].astype('int64')\n",
    "\n",
    "for col in df[config['cat_cols']]:\n",
    "    print(col, df[col].unique())\n",
    "df[config['cat_cols']] = df[config['cat_cols']].astype('category')"
   ]
  },
  {
   "cell_type": "markdown",
   "metadata": {},
   "source": [
    "### Check for missing values\n"
   ]
  },
  {
   "cell_type": "code",
   "execution_count": 6,
   "metadata": {},
   "outputs": [
    {
     "data": {
      "text/plain": [
       "<AxesSubplot:>"
      ]
     },
     "execution_count": 6,
     "metadata": {},
     "output_type": "execute_result"
    },
    {
     "data": {
      "image/png": "[encoded data removed]",
      "text/plain": [
       "<Figure size 720x360 with 1 Axes>"
      ]
     },
     "metadata": {
      "needs_background": "light"
     },
     "output_type": "display_data"
    }
   ],
   "source": [
    "# Plot missing values in each column\n",
    "df.isnull().sum().plot(kind='bar', figsize=(10, 5))"
   ]
  },
  {
   "cell_type": "markdown",
   "metadata": {},
   "source": [
    "#### Fill na with mean value"
   ]
  },
  {
   "cell_type": "code",
   "execution_count": 7,
   "metadata": {},
   "outputs": [
    {
     "name": "stdout",
     "output_type": "stream",
     "text": [
      "column name cont_car_feature_4 has 13197 missing values\n"
     ]
    }
   ],
   "source": [
    "print('column name cont_car_feature_4 has {} missing values'.format(df['cont_car_feature_4'].isnull().sum()))"
   ]
  },
  {
   "cell_type": "code",
   "execution_count": 8,
   "metadata": {},
   "outputs": [
    {
     "name": "stdout",
     "output_type": "stream",
     "text": [
      "column name cont_car_feature_4 has 0 missing values after filling missing values with the mean\n"
     ]
    }
   ],
   "source": [
    "\n",
    "df['cont_car_feature_4'].fillna(df['cont_car_feature_4'].mean(), inplace=True)\n",
    "print('column name cont_car_feature_4 has {} missing values after filling missing values with the mean'.format(df['cont_car_feature_4'].isnull().sum()))"
   ]
  },
  {
   "cell_type": "markdown",
   "metadata": {},
   "source": [
    "### Check Pearson correlation amongst continuous variables"
   ]
  },
  {
   "cell_type": "code",
   "execution_count": 9,
   "metadata": {},
   "outputs": [
    {
     "name": "stdout",
     "output_type": "stream",
     "text": [
      "From the heatmap we can see that there is no strong correlation amongst the continuous features\n"
     ]
    },
    {
     "data": {
      "image/png": "[encoded data removed]",
      "text/plain": [
       "<Figure size 432x288 with 2 Axes>"
      ]
     },
     "metadata": {
      "needs_background": "light"
     },
     "output_type": "display_data"
    }
   ],
   "source": [
    "# Plot correlation matrix\n",
    "import seaborn as sns\n",
    "corr = df[config['continous_cols']].corr()\n",
    "sns.heatmap(corr, annot=True)\n",
    "print(\"From the heatmap we can see that there is no strong correlation amongst the continuous features\")\n"
   ]
  },
  {
   "cell_type": "markdown",
   "metadata": {},
   "source": [
    "### Descriptive statistics of continuous variables. The cell below shows the point estimates of continous variables."
   ]
  },
  {
   "cell_type": "code",
   "execution_count": 10,
   "metadata": {},
   "outputs": [
    {
     "data": {
      "text/html": [
       "<div>\n",
       "<style scoped>\n",
       "    .dataframe tbody tr th:only-of-type {\n",
       "        vertical-align: middle;\n",
       "    }\n",
       "\n",
       "    .dataframe tbody tr th {\n",
       "        vertical-align: top;\n",
       "    }\n",
       "\n",
       "    .dataframe thead th {\n",
       "        text-align: right;\n",
       "    }\n",
       "</style>\n",
       "<table border=\"1\" class=\"dataframe\">\n",
       "  <thead>\n",
       "    <tr style=\"text-align: right;\">\n",
       "      <th></th>\n",
       "      <th>price</th>\n",
       "      <th>cont_car_feature_1</th>\n",
       "      <th>cont_car_feature_2</th>\n",
       "      <th>cont_car_feature_3</th>\n",
       "      <th>cont_car_feature_4</th>\n",
       "    </tr>\n",
       "    <tr>\n",
       "      <th>target</th>\n",
       "      <th></th>\n",
       "      <th></th>\n",
       "      <th></th>\n",
       "      <th></th>\n",
       "      <th></th>\n",
       "    </tr>\n",
       "  </thead>\n",
       "  <tbody>\n",
       "    <tr>\n",
       "      <th>0</th>\n",
       "      <td>437.39</td>\n",
       "      <td>5</td>\n",
       "      <td>3</td>\n",
       "      <td>5</td>\n",
       "      <td>7.0</td>\n",
       "    </tr>\n",
       "    <tr>\n",
       "      <th>1</th>\n",
       "      <td>280.38</td>\n",
       "      <td>5</td>\n",
       "      <td>2</td>\n",
       "      <td>5</td>\n",
       "      <td>6.0</td>\n",
       "    </tr>\n",
       "  </tbody>\n",
       "</table>\n",
       "</div>"
      ],
      "text/plain": [
       "         price  cont_car_feature_1  cont_car_feature_2  cont_car_feature_3  \\\n",
       "target                                                                       \n",
       "0       437.39                   5                   3                   5   \n",
       "1       280.38                   5                   2                   5   \n",
       "\n",
       "        cont_car_feature_4  \n",
       "target                      \n",
       "0                      7.0  \n",
       "1                      6.0  "
      ]
     },
     "execution_count": 10,
     "metadata": {},
     "output_type": "execute_result"
    }
   ],
   "source": [
    "# Median\n",
    "df.groupby('target')[config['continous_cols']].median()"
   ]
  },
  {
   "cell_type": "code",
   "execution_count": 11,
   "metadata": {},
   "outputs": [
    {
     "data": {
      "text/html": [
       "<div>\n",
       "<style scoped>\n",
       "    .dataframe tbody tr th:only-of-type {\n",
       "        vertical-align: middle;\n",
       "    }\n",
       "\n",
       "    .dataframe tbody tr th {\n",
       "        vertical-align: top;\n",
       "    }\n",
       "\n",
       "    .dataframe thead th {\n",
       "        text-align: right;\n",
       "    }\n",
       "</style>\n",
       "<table border=\"1\" class=\"dataframe\">\n",
       "  <thead>\n",
       "    <tr style=\"text-align: right;\">\n",
       "      <th></th>\n",
       "      <th>price</th>\n",
       "      <th>cont_car_feature_1</th>\n",
       "      <th>cont_car_feature_2</th>\n",
       "      <th>cont_car_feature_3</th>\n",
       "      <th>cont_car_feature_4</th>\n",
       "    </tr>\n",
       "    <tr>\n",
       "      <th>target</th>\n",
       "      <th></th>\n",
       "      <th></th>\n",
       "      <th></th>\n",
       "      <th></th>\n",
       "      <th></th>\n",
       "    </tr>\n",
       "  </thead>\n",
       "  <tbody>\n",
       "    <tr>\n",
       "      <th>0</th>\n",
       "      <td>628.979331</td>\n",
       "      <td>4.531307</td>\n",
       "      <td>2.841947</td>\n",
       "      <td>5.216280</td>\n",
       "      <td>6.828082</td>\n",
       "    </tr>\n",
       "    <tr>\n",
       "      <th>1</th>\n",
       "      <td>333.881730</td>\n",
       "      <td>4.716609</td>\n",
       "      <td>2.653277</td>\n",
       "      <td>5.084032</td>\n",
       "      <td>6.731675</td>\n",
       "    </tr>\n",
       "  </tbody>\n",
       "</table>\n",
       "</div>"
      ],
      "text/plain": [
       "             price  cont_car_feature_1  cont_car_feature_2  \\\n",
       "target                                                       \n",
       "0       628.979331            4.531307            2.841947   \n",
       "1       333.881730            4.716609            2.653277   \n",
       "\n",
       "        cont_car_feature_3  cont_car_feature_4  \n",
       "target                                          \n",
       "0                 5.216280            6.828082  \n",
       "1                 5.084032            6.731675  "
      ]
     },
     "execution_count": 11,
     "metadata": {},
     "output_type": "execute_result"
    }
   ],
   "source": [
    "# Mean\n",
    "df.groupby('target')[config['continous_cols']].mean()"
   ]
  },
  {
   "cell_type": "markdown",
   "metadata": {},
   "source": [
    "### Label encoding for car_feature_9 and query_feature_3"
   ]
  },
  {
   "cell_type": "code",
   "execution_count": 12,
   "metadata": {},
   "outputs": [],
   "source": [
    "## Label encoding for car_feature_9 and query_feature_3\n",
    "from sklearn.preprocessing import LabelEncoder\n",
    "le = LabelEncoder()\n",
    "df['car_feature_9'] = le.fit_transform(df['car_feature_9'])\n",
    "df['query_feature_3'] = le.fit_transform(df['query_feature_3'])"
   ]
  },
  {
   "cell_type": "markdown",
   "metadata": {},
   "source": [
    "## Distribution of categorical variables booked and not booked vehicles population.\n",
    "\n",
    "\n"
   ]
  },
  {
   "cell_type": "code",
   "execution_count": 13,
   "metadata": {},
   "outputs": [],
   "source": [
    "# cat_features = df[['car_feature_1','car_feature_2','car_feature_3','car_feature_4','car_feature_5','car_feature_6','car_feature_7','car_feature_8',\n",
    "#         'car_feature_9','car_feature_10','car_feature_11','query_feature_1','query_feature_2','query_feature_3','duration','target']]\n",
    "\n",
    "def plot_ratios(df:pd.DataFrame)-> pd.DataFrame:\n",
    "    \"\"\"\n",
    "    __summary__: This function returns the ratio of each category in a categorical feature for their respective target values\n",
    "    parameter:\n",
    "        df {pd.DataFrame} : The dataframe containing the categorical feature and the target\n",
    "    return:\n",
    "        pd.DataFrame : The dataframe containing the ratio of each category in a categorical feature for their respective target values\n",
    "\n",
    "    \"\"\"\n",
    "    ratio_ = pd.DataFrame()\n",
    "    for i in df.target.unique():\n",
    "        target_df = df[df['target'] == i]\n",
    "        for col in target_df.columns.unique():\n",
    "            col_df = target_df[col].value_counts()/target_df.shape[0]\n",
    "            col_df = col_df.reset_index()\n",
    "            col_df.columns = [col, 'ratio']\n",
    "            col_df['target'] = i\n",
    "            ratio_ = pd.concat([ratio_, col_df], axis=0)\n",
    "    return ratio_\n",
    "    \n",
    "data_ratio = plot_ratios(df[config['cat_cols']])  \n",
    "\n",
    "data_ratio = data_ratio.reset_index()\n",
    "data_ratio = data_ratio.drop('index', axis=1)\n"
   ]
  },
  {
   "cell_type": "code",
   "execution_count": 14,
   "metadata": {},
   "outputs": [
    {
     "data": {
      "text/plain": [
       "<AxesSubplot:xlabel='car_feature_7', ylabel='ratio'>"
      ]
     },
     "execution_count": 14,
     "metadata": {},
     "output_type": "execute_result"
    },
    {
     "data": {
      "image/png": "[encoded data removed]",
      "text/plain": [
       "<Figure size 1440x360 with 4 Axes>"
      ]
     },
     "metadata": {
      "needs_background": "light"
     },
     "output_type": "display_data"
    },
    {
     "data": {
      "image/png": "[encoded data removed]",
      "text/plain": [
       "<Figure size 1440x360 with 3 Axes>"
      ]
     },
     "metadata": {
      "needs_background": "light"
     },
     "output_type": "display_data"
    }
   ],
   "source": [
    "fig, ax = plt.subplots(1, 4, figsize=(20, 5))\n",
    "sns.barplot(x='car_feature_1', y='ratio', hue='target', data=data_ratio, ax=ax[0])\n",
    "sns.barplot(x='car_feature_2', y='ratio', hue='target', data=data_ratio, ax=ax[1])\n",
    "sns.barplot(x='car_feature_3', y='ratio', hue='target', data=data_ratio, ax=ax[2])\n",
    "sns.barplot(x='car_feature_4', y='ratio', hue='target', data=data_ratio, ax=ax[3])\n",
    "\n",
    "\n",
    "\n",
    "fig, ax = plt.subplots(1, 3, figsize=(20, 5))\n",
    "sns.barplot(x='car_feature_5', y='ratio', hue='target', data=data_ratio, ax=ax[0])\n",
    "sns.barplot(x='car_feature_6', y='ratio', hue='target', data=data_ratio, ax=ax[1])\n",
    "sns.barplot(x='car_feature_7', y='ratio', hue='target', data=data_ratio, ax=ax[2])"
   ]
  },
  {
   "cell_type": "markdown",
   "metadata": {},
   "source": [
    "### From above ratio plots we can see that category 1 from car_feature_1, car_feature_2, car_feature_3, car_feature_4, car_feature_5, car_feature_7 have been used more when it comes to booking a vehicle."
   ]
  },
  {
   "cell_type": "code",
   "execution_count": 15,
   "metadata": {},
   "outputs": [
    {
     "data": {
      "text/plain": [
       "<AxesSubplot:xlabel='car_feature_8', ylabel='ratio'>"
      ]
     },
     "execution_count": 15,
     "metadata": {},
     "output_type": "execute_result"
    },
    {
     "data": {
      "image/png": "[encoded data removed]",
      "text/plain": [
       "<Figure size 1440x360 with 1 Axes>"
      ]
     },
     "metadata": {
      "needs_background": "light"
     },
     "output_type": "display_data"
    }
   ],
   "source": [
    "fig, ax = plt.subplots(1, figsize=(20, 5))\n",
    "sns.barplot(x='car_feature_8', y='ratio', hue='target', data=data_ratio)"
   ]
  },
  {
   "cell_type": "markdown",
   "metadata": {},
   "source": [
    "### From above ratio plot we can see that category 2 from car_feature_8 have been used significantly more compared to non booked vehicle when it comes to booking a vehicle."
   ]
  },
  {
   "cell_type": "code",
   "execution_count": 16,
   "metadata": {},
   "outputs": [
    {
     "data": {
      "text/plain": [
       "<AxesSubplot:xlabel='car_feature_9', ylabel='ratio'>"
      ]
     },
     "execution_count": 16,
     "metadata": {},
     "output_type": "execute_result"
    },
    {
     "data": {
      "image/png": "[encoded data removed]",
      "text/plain": [
       "<Figure size 1440x360 with 1 Axes>"
      ]
     },
     "metadata": {
      "needs_background": "light"
     },
     "output_type": "display_data"
    }
   ],
   "source": [
    "fig, ax = plt.subplots(1, figsize=(20, 5))\n",
    "sns.barplot(x='car_feature_9', y='ratio', hue='target', data=data_ratio)"
   ]
  },
  {
   "cell_type": "markdown",
   "metadata": {},
   "source": [
    "### From above ratio plot we can see that category 4 from car_feature_9 have been used significantly more when it comes to booking a vehicle."
   ]
  },
  {
   "cell_type": "code",
   "execution_count": 17,
   "metadata": {},
   "outputs": [
    {
     "data": {
      "text/plain": [
       "<AxesSubplot:xlabel='car_feature_11', ylabel='ratio'>"
      ]
     },
     "execution_count": 17,
     "metadata": {},
     "output_type": "execute_result"
    },
    {
     "data": {
      "image/png": "[encoded data removed]",
      "text/plain": [
       "<Figure size 1440x360 with 2 Axes>"
      ]
     },
     "metadata": {
      "needs_background": "light"
     },
     "output_type": "display_data"
    }
   ],
   "source": [
    "fig, ax = plt.subplots(1, 2, figsize=(20, 5))\n",
    "sns.barplot(x='car_feature_10', y='ratio', hue='target', data=data_ratio, ax=ax[0])\n",
    "sns.barplot(x='car_feature_11', y='ratio', hue='target', data=data_ratio, ax=ax[1])\n"
   ]
  },
  {
   "cell_type": "markdown",
   "metadata": {},
   "source": [
    "## Catergory 0 from car_feature_11 have been used more when it comes to booking a vehicle. Category 3 from car_feature_10 have been used significantly more than other categories when it comes to booking a vehicle."
   ]
  },
  {
   "cell_type": "code",
   "execution_count": 18,
   "metadata": {},
   "outputs": [
    {
     "data": {
      "text/plain": [
       "<AxesSubplot:xlabel='query_feature_1', ylabel='ratio'>"
      ]
     },
     "execution_count": 18,
     "metadata": {},
     "output_type": "execute_result"
    },
    {
     "data": {
      "image/png": "[encoded data removed]",
      "text/plain": [
       "<Figure size 1440x360 with 1 Axes>"
      ]
     },
     "metadata": {
      "needs_background": "light"
     },
     "output_type": "display_data"
    }
   ],
   "source": [
    "fig, ax = plt.subplots(1, figsize=(20, 5))\n",
    "sns.barplot(x='query_feature_1', y='ratio', hue='target', data=data_ratio)"
   ]
  },
  {
   "cell_type": "markdown",
   "metadata": {},
   "source": [
    "## Catergory 1 from query_feature_1 have been used more compared to other categories when it comes to booking a vehicle."
   ]
  },
  {
   "cell_type": "code",
   "execution_count": 19,
   "metadata": {},
   "outputs": [
    {
     "data": {
      "text/plain": [
       "<AxesSubplot:xlabel='duration', ylabel='ratio'>"
      ]
     },
     "execution_count": 19,
     "metadata": {},
     "output_type": "execute_result"
    },
    {
     "data": {
      "image/png": "[encoded data removed]",
      "text/plain": [
       "<Figure size 1440x360 with 4 Axes>"
      ]
     },
     "metadata": {
      "needs_background": "light"
     },
     "output_type": "display_data"
    },
    {
     "data": {
      "image/png": "[encoded data removed]",
      "text/plain": [
       "<Figure size 1440x360 with 1 Axes>"
      ]
     },
     "metadata": {
      "needs_background": "light"
     },
     "output_type": "display_data"
    }
   ],
   "source": [
    "fig, ax = plt.subplots(1, 4, figsize=(20, 5))\n",
    "sns.barplot(x='car_feature_10', y='ratio', hue='target', data=data_ratio, ax=ax[0])\n",
    "sns.barplot(x='car_feature_11', y='ratio', hue='target', data=data_ratio, ax=ax[1])\n",
    "sns.barplot(x='query_feature_2', y='ratio', hue='target', data=data_ratio, ax=ax[2])\n",
    "sns.barplot(x='query_feature_3', y='ratio', hue='target', data=data_ratio, ax=ax[3])\n",
    "\n",
    "\n",
    "fig, ax = plt.subplots(1 ,figsize=(20, 5))\n",
    "sns.barplot(x='duration', y='ratio', hue='target', data=data_ratio)"
   ]
  },
  {
   "cell_type": "markdown",
   "metadata": {},
   "source": [
    "\n",
    "### Category 3 from car_feature_10 have been used significantly more than other categories when it comes to booking a vehicle. Vehicles are generally booked for 7 days and 14 days."
   ]
  },
  {
   "cell_type": "code",
   "execution_count": 20,
   "metadata": {},
   "outputs": [
    {
     "data": {
      "text/plain": [
       "7     268184\n",
       "14    130225\n",
       "4      95697\n",
       "8      95034\n",
       "10     62035\n",
       "5      61655\n",
       "3      58083\n",
       "9      53095\n",
       "6      52058\n",
       "15     37734\n",
       "11     35161\n",
       "12     21747\n",
       "13     20048\n",
       "16     19004\n",
       "2      18478\n",
       "21     16934\n",
       "17     10089\n",
       "28      8904\n",
       "18      7749\n",
       "22      4914\n",
       "23      4819\n",
       "19      4129\n",
       "1       3654\n",
       "27      2732\n",
       "25      2718\n",
       "30      2687\n",
       "24      2648\n",
       "20      1780\n",
       "29      1289\n",
       "26      1137\n",
       "32       760\n",
       "35       363\n",
       "42       354\n",
       "31       334\n",
       "49       317\n",
       "38       276\n",
       "36       251\n",
       "37       215\n",
       "57       165\n",
       "62       162\n",
       "56       144\n",
       "33       115\n",
       "39       107\n",
       "41       106\n",
       "43       103\n",
       "46        92\n",
       "52        90\n",
       "51        85\n",
       "58        64\n",
       "55        63\n",
       "40        40\n",
       "63        39\n",
       "70        36\n",
       "34        32\n",
       "60        31\n",
       "Name: duration, dtype: int64"
      ]
     },
     "execution_count": 20,
     "metadata": {},
     "output_type": "execute_result"
    }
   ],
   "source": [
    "df.duration.value_counts()"
   ]
  },
  {
   "cell_type": "markdown",
   "metadata": {},
   "source": [
    "### Mutual information between categorical variables and target variable. It is used to see the dependency between categorical variables on target variable."
   ]
  },
  {
   "cell_type": "code",
   "execution_count": 21,
   "metadata": {},
   "outputs": [
    {
     "data": {
      "text/plain": [
       "array([0.13984359, 0.20434427, 0.07136549, 0.08335654, 0.13997751,\n",
       "       0.21283051, 0.00844618, 0.02401456, 0.00866077, 0.17995153,\n",
       "       0.01405397, 0.05785577, 0.14344348, 0.03845963, 0.01959678])"
      ]
     },
     "execution_count": 21,
     "metadata": {},
     "output_type": "execute_result"
    }
   ],
   "source": [
    "from sklearn.feature_selection import mutual_info_classif as MIC\n",
    "X = df[['car_feature_1', 'car_feature_2', 'car_feature_3', 'car_feature_4', 'car_feature_5', 'car_feature_6', 'car_feature_7', 'car_feature_8', 'car_feature_9', 'car_feature_10', 'car_feature_11', 'query_feature_1', 'query_feature_2', 'query_feature_3','duration']]\n",
    "y =  df['target']\n",
    "mic = MIC(X,y)\n",
    "mic"
   ]
  },
  {
   "cell_type": "code",
   "execution_count": 22,
   "metadata": {},
   "outputs": [
    {
     "data": {
      "image/png": "[encoded data removed]",
      "text/plain": [
       "<Figure size 720x360 with 1 Axes>"
      ]
     },
     "metadata": {
      "needs_background": "light"
     },
     "output_type": "display_data"
    }
   ],
   "source": [
    "# Plot mic\n",
    "plt.figure(figsize=(10, 5))\n",
    "plt.bar(X.columns, mic)\n",
    "plt.xticks(rotation=90)\n",
    "plt.show()"
   ]
  },
  {
   "cell_type": "markdown",
   "metadata": {},
   "source": [
    "### Based on the MI score, i.e. the measure of dependeny between <ins> car_feature_6 (unique values - 0, 1) and target variable <ins> is the highest followed by car_feature_2 (unique values - 0,1 ) and car_feature_10 (unique values: 3,  2, 13, 15, 17, 12). These categorical features are key features behind the purchasing decision of the customer."
   ]
  },
  {
   "cell_type": "markdown",
   "metadata": {},
   "source": [
    "## Pricing"
   ]
  },
  {
   "cell_type": "markdown",
   "metadata": {},
   "source": [
    "#### Check for normality using Shapiro-Wilk test"
   ]
  },
  {
   "cell_type": "code",
   "execution_count": 23,
   "metadata": {},
   "outputs": [
    {
     "name": "stdout",
     "output_type": "stream",
     "text": [
      "Statistics=0.574, p=0.000\n",
      "The price of cars not booked does not follow a Gaussian distribution\n",
      "Statistics=0.758, p=0.000\n",
      "The price of cars booked does not follow a Gaussian distribution\n"
     ]
    },
    {
     "name": "stderr",
     "output_type": "stream",
     "text": [
      "C:\\Users\\viraj\\AppData\\Roaming\\Python\\Python38\\site-packages\\scipy\\stats\\_morestats.py:1800: UserWarning: p-value may not be accurate for N > 5000.\n",
      "  warnings.warn(\"p-value may not be accurate for N > 5000.\")\n"
     ]
    }
   ],
   "source": [
    "# shapiro wilk test to check if the price for cars not booked is normally distributed \n",
    "from scipy.stats import shapiro\n",
    "stat, p = shapiro(df[df['target'] == 0]['price'])\n",
    "print('Statistics=%.3f, p=%.3f' % (stat, p))\n",
    "if p > 0.05:\n",
    "    print('The price of cars not booked follows a Gaussian distribution')\n",
    "else:\n",
    "    print('The price of cars not booked does not follow a Gaussian distribution')\n",
    "\n",
    "\n",
    "# shapiro wilk test to check if the price for cars booked is normally distributed \n",
    "from scipy.stats import shapiro\n",
    "stat, p = shapiro(df[df['target'] == 1]['price'])\n",
    "print('Statistics=%.3f, p=%.3f' % (stat, p))\n",
    "if p > 0.05:\n",
    "    print('The price of cars booked follows a Gaussian distribution')\n",
    "else:\n",
    "    print('The price of cars booked does not follow a Gaussian distribution')"
   ]
  },
  {
   "cell_type": "markdown",
   "metadata": {},
   "source": [
    "### Check for outliers and remove outliers using IQR. The data points are considered outlier when a data lies outside of 𝜇±2⋅7𝜎."
   ]
  },
  {
   "cell_type": "code",
   "execution_count": 24,
   "metadata": {},
   "outputs": [],
   "source": [
    "## remove outliers from the price column for target = 0 using IQR\n",
    "q1 = df[df['target'] == 0]['price'].quantile(0.25)\n",
    "q3 = df[df['target'] == 0]['price'].quantile(0.75)\n",
    "iqr = q3 - q1\n",
    "df = df[~((df['target'] == 0) & (df['price'] < (q1 - 1.5 * iqr)) | (df['price'] > (q3 + 1.5 * iqr)))]\n"
   ]
  },
  {
   "cell_type": "code",
   "execution_count": 25,
   "metadata": {},
   "outputs": [],
   "source": [
    "## remove outliers from the price column for target = 1 using IQR\n",
    "q1 = df[df['target'] == 1]['price'].quantile(0.25)\n",
    "q3 = df[df['target'] == 1]['price'].quantile(0.75)\n",
    "iqr = q3 - q1\n",
    "df = df[~((df['target'] == 1) & (df['price'] < (q1 - 1.5 * iqr)) | (df['price'] > (q3 + 1.5 * iqr)))]\n"
   ]
  },
  {
   "cell_type": "code",
   "execution_count": 26,
   "metadata": {},
   "outputs": [
    {
     "data": {
      "text/plain": [
       "(792802, 25)"
      ]
     },
     "execution_count": 26,
     "metadata": {},
     "output_type": "execute_result"
    }
   ],
   "source": [
    "df.shape"
   ]
  },
  {
   "cell_type": "code",
   "execution_count": 27,
   "metadata": {},
   "outputs": [
    {
     "name": "stdout",
     "output_type": "stream",
     "text": [
      "Range of price for booked cars 502.28\n",
      "Range of price for cars not booked 507.56\n"
     ]
    },
    {
     "data": {
      "text/plain": [
       "<AxesSubplot:xlabel='target', ylabel='price'>"
      ]
     },
     "execution_count": 27,
     "metadata": {},
     "output_type": "execute_result"
    },
    {
     "data": {
      "image/png": "[encoded data removed]",
      "text/plain": [
       "<Figure size 720x360 with 1 Axes>"
      ]
     },
     "metadata": {
      "needs_background": "light"
     },
     "output_type": "display_data"
    }
   ],
   "source": [
    "# calculate range of price\n",
    "print('Range of price for booked cars {}'.format(df[df['target'] == 1]['price'].max() - df[df['target'] == 1]['price'].min()))\n",
    "print('Range of price for cars not booked {}'.format(df[df['target'] == 0]['price'].max() - df[df['target'] == 0]['price'].min()))\n",
    "\n",
    "\n",
    "import seaborn as sns\n",
    "# box plot of price by target\n",
    "fig, ax = plt.subplots(figsize=(10, 5))\n",
    "sns.boxplot(x='target', y='price', data=df, ax=ax)"
   ]
  },
  {
   "cell_type": "markdown",
   "metadata": {},
   "source": [
    "#### Distribution of price for booked and not booked samples"
   ]
  },
  {
   "cell_type": "code",
   "execution_count": 28,
   "metadata": {},
   "outputs": [
    {
     "name": "stderr",
     "output_type": "stream",
     "text": [
      "c:\\ProgramData\\Anaconda3\\lib\\site-packages\\seaborn\\distributions.py:2557: FutureWarning: `distplot` is a deprecated function and will be removed in a future version. Please adapt your code to use either `displot` (a figure-level function with similar flexibility) or `histplot` (an axes-level function for histograms).\n",
      "  warnings.warn(msg, FutureWarning)\n",
      "c:\\ProgramData\\Anaconda3\\lib\\site-packages\\seaborn\\distributions.py:2557: FutureWarning: `distplot` is a deprecated function and will be removed in a future version. Please adapt your code to use either `displot` (a figure-level function with similar flexibility) or `histplot` (an axes-level function for histograms).\n",
      "  warnings.warn(msg, FutureWarning)\n"
     ]
    },
    {
     "data": {
      "text/plain": [
       "<matplotlib.legend.Legend at 0x2a6000474c0>"
      ]
     },
     "execution_count": 28,
     "metadata": {},
     "output_type": "execute_result"
    },
    {
     "data": {
      "image/png": "[encoded data removed]",
      "text/plain": [
       "<Figure size 720x360 with 1 Axes>"
      ]
     },
     "metadata": {
      "needs_background": "light"
     },
     "output_type": "display_data"
    }
   ],
   "source": [
    "# Distribution of price by target\n",
    "fig, ax = plt.subplots(figsize=(10, 5))\n",
    "sns.distplot(df[df['target'] == 1]['price'], ax=ax, label='Booked')\n",
    "sns.distplot(df[df['target'] == 0]['price'], ax=ax, label='Not Booked')\n",
    "plt.legend()\n"
   ]
  },
  {
   "cell_type": "markdown",
   "metadata": {},
   "source": [
    "#### Calculate confidence interval for pricing for booked and not booked vehicles with bootstrap since the distribution is not Gaussian.\n"
   ]
  },
  {
   "cell_type": "code",
   "execution_count": 29,
   "metadata": {},
   "outputs": [],
   "source": [
    "import numpy as np\n",
    "def calc_bootstrap(data:pd.Series, func, size:int) -> list:\n",
    "\n",
    "    \"\"\"\n",
    "    __Summary__: This function performs bootstrapping\n",
    "\n",
    "    __args__:\n",
    "        data: data to be bootstrapped\n",
    "        func: function to be applied to the data\n",
    "        size: number of samples to be drawn\n",
    "\n",
    "    __return__:\n",
    "        list of bootstrapped values\n",
    "\n",
    "    \"\"\"\n",
    "    bootstrap = []\n",
    "    for i in range(size):\n",
    "        bootstrap.append(func(np.random.choice(data, size=len(data), replace=True)))\n",
    "    return bootstrap\n",
    "\n",
    "# calculate bootstrap for price\n",
    "bootstrap_booked = calc_bootstrap(df[df['target'] == 1]['price'], np.mean, 1000)\n",
    "bootstrap_not_booked = calc_bootstrap(df[df['target'] == 0]['price'], np.mean, 1000)"
   ]
  },
  {
   "cell_type": "code",
   "execution_count": 30,
   "metadata": {},
   "outputs": [
    {
     "data": {
      "image/png": "[encoded data removed]",
      "text/plain": [
       "<Figure size 432x288 with 1 Axes>"
      ]
     },
     "metadata": {
      "needs_background": "light"
     },
     "output_type": "display_data"
    },
    {
     "data": {
      "image/png": "[encoded data removed]",
      "text/plain": [
       "<Figure size 432x288 with 1 Axes>"
      ]
     },
     "metadata": {
      "needs_background": "light"
     },
     "output_type": "display_data"
    }
   ],
   "source": [
    "# calculate 95% confidence interval for booked cars\n",
    "plt.hist(bootstrap_booked,bins=30)\n",
    "\n",
    "# Showing the related percentiles \n",
    "plt.axvline(x=np.percentile(bootstrap_booked,[2.5]), ymin=0, ymax=1,label='2.5th percentile',c='y')\n",
    "plt.axvline(x=np.percentile(bootstrap_booked,[97.5]), ymin=0, ymax=1,label='97.5th percentile',c='r')\n",
    "\n",
    "plt.xlabel(\"Price for booked cars\")\n",
    "plt.ylabel(\"PDF\")\n",
    "plt.title(\"Probability Density Function\")\n",
    "plt.legend()\n",
    "plt.show()\n",
    "\n",
    "\n",
    "# calculate 95% confidence interval for not booked cars\n",
    "plt.hist(bootstrap_not_booked,bins=30)\n",
    "\n",
    "# Showing the related percentiles \n",
    "plt.axvline(x=np.percentile(bootstrap_not_booked,[2.5]), ymin=0, ymax=1,label='2.5th percentile',c='y')\n",
    "plt.axvline(x=np.percentile(bootstrap_not_booked,[97.5]), ymin=0, ymax=1,label='97.5th percentile',c='r')\n",
    "\n",
    "plt.xlabel(\"Price for booked cars\")\n",
    "plt.ylabel(\"PDF\")\n",
    "plt.title(\"Probability Density Function\")\n",
    "plt.legend()\n",
    "plt.show()"
   ]
  },
  {
   "cell_type": "code",
   "execution_count": 31,
   "metadata": {},
   "outputs": [
    {
     "name": "stdout",
     "output_type": "stream",
     "text": [
      "Confidence interval for booked cars is [301.76459498 309.07324384]\n"
     ]
    }
   ],
   "source": [
    "Conf_interval = np.percentile(bootstrap_booked, [2.5, 97.5])\n",
    "print('Confidence interval for booked cars is {}'.format(Conf_interval))\n"
   ]
  },
  {
   "cell_type": "code",
   "execution_count": 32,
   "metadata": {},
   "outputs": [
    {
     "name": "stdout",
     "output_type": "stream",
     "text": [
      "Confidence interval for booked cars is [370.36731736 370.94845363]\n"
     ]
    }
   ],
   "source": [
    "Conf_interval = np.percentile(bootstrap_not_booked, [2.5, 97.5])\n",
    "print('Confidence interval for booked cars is {}'.format(Conf_interval))\n"
   ]
  },
  {
   "cell_type": "markdown",
   "metadata": {},
   "source": [
    "### Since the 95% confidence interval for booked and not booked vehicle prices do not overlap, we can conclude that there is a statistically significant difference in the price of booked and not booked vehicles."
   ]
  },
  {
   "cell_type": "markdown",
   "metadata": {},
   "source": [
    "### Further testing to test significance. \n",
    "Perform Independent Two Sample t-Test pricing to determine if there is a significant difference in the mean of the booked cars and the mean of the unbooked cars"
   ]
  },
  {
   "cell_type": "code",
   "execution_count": 33,
   "metadata": {},
   "outputs": [
    {
     "name": "stderr",
     "output_type": "stream",
     "text": [
      "<ipython-input-33-336a292f8e8f>:9: SettingWithCopyWarning: \n",
      "A value is trying to be set on a copy of a slice from a DataFrame.\n",
      "Try using .loc[row_indexer,col_indexer] = value instead\n",
      "\n",
      "See the caveats in the documentation: https://pandas.pydata.org/pandas-docs/stable/user_guide/indexing.html#returning-a-view-versus-a-copy\n",
      "  df_target_0['price_transformed'] = boxcox(df_target_0['price'], 0)\n",
      "<ipython-input-33-336a292f8e8f>:10: SettingWithCopyWarning: \n",
      "A value is trying to be set on a copy of a slice from a DataFrame.\n",
      "Try using .loc[row_indexer,col_indexer] = value instead\n",
      "\n",
      "See the caveats in the documentation: https://pandas.pydata.org/pandas-docs/stable/user_guide/indexing.html#returning-a-view-versus-a-copy\n",
      "  df_target_1['price_transformed'] = boxcox(df_target_1['price'], 0)\n"
     ]
    }
   ],
   "source": [
    "# Perform box cox transformation on price to make it Gaussian.\n",
    "\n",
    "from scipy.stats import boxcox\n",
    "# select data where target = 1\n",
    "df_target_1 = df[df['target'] == 1]\n",
    "# select data where target = 0\n",
    "df_target_0 = df[df['target'] == 0]\n",
    "# transform data\n",
    "df_target_0['price_transformed'] = boxcox(df_target_0['price'], 0)\n",
    "df_target_1['price_transformed'] = boxcox(df_target_1['price'], 0)"
   ]
  },
  {
   "cell_type": "code",
   "execution_count": 34,
   "metadata": {},
   "outputs": [
    {
     "name": "stdout",
     "output_type": "stream",
     "text": [
      "Statistics=-34.879, p=0.000\n",
      "The price of cars booked is significantly different from the price of cars not booked\n"
     ]
    }
   ],
   "source": [
    "# Peform Independent t-test to check if the price of cars booked is significantly different from the price of cars not booked\n",
    "\n",
    "from scipy.stats import ttest_ind\n",
    "stat, p = ttest_ind(df_target_1['price_transformed'], df_target_0['price_transformed'])\n",
    "print('Statistics=%.3f, p=%.3f' % (stat, p))\n",
    "if p > 0.05:\n",
    "    print('The price of cars booked is not significantly different from the price of cars not booked')\n",
    "else:\n",
    "    print('The price of cars booked is significantly different from the price of cars not booked')\n"
   ]
  },
  {
   "cell_type": "markdown",
   "metadata": {},
   "source": [
    "### 95% CI for the population mean price of booked cars is [301.89215638, 309.11135853] and 95% CI for the population mean price of unbooked cars is [370.36112329, 370.94803343]. Since the means of prices for booked and cars not booked are significantly different, we can conclude that price has a large impact on whether a car is booked or not."
   ]
  },
  {
   "cell_type": "markdown",
   "metadata": {},
   "source": [
    "## •\tWhat are the key features behind purchasing a vehicle?\n",
    "\n",
    "### From the above analysis we can say that car feature 6, car feature 2 and car feature 10 and pricing are the key features behind purchasing a vehicle.\n"
   ]
  },
  {
   "cell_type": "markdown",
   "metadata": {},
   "source": [
    "# •\tHow large an influence is the price on customer’s purchasing behaviour?\n",
    "\n",
    "### From the above analysis we can say that price has a large impact on whether a car is booked or not.\n"
   ]
  },
  {
   "cell_type": "markdown",
   "metadata": {},
   "source": [
    "### Preprocessing the data\n"
   ]
  },
  {
   "cell_type": "code",
   "execution_count": 30,
   "metadata": {},
   "outputs": [
    {
     "data": {
      "text/plain": [
       "Index(['query_id', 'veh_id', 'query_date', 'car_feature_1', 'car_feature_2',\n",
       "       'price', 'car_feature_3', 'car_feature_4', 'car_feature_5',\n",
       "       'cont_car_feature_1', 'cont_car_feature_2', 'cont_car_feature_3',\n",
       "       'car_feature_6', 'car_feature_7', 'car_feature_8', 'cont_car_feature_4',\n",
       "       'car_feature_9', 'car_feature_10', 'car_feature_11', 'query_feature_1',\n",
       "       'query_feature_2', 'duration', 'pickup_date', 'query_feature_3',\n",
       "       'target'],\n",
       "      dtype='object')"
      ]
     },
     "execution_count": 30,
     "metadata": {},
     "output_type": "execute_result"
    }
   ],
   "source": [
    "df.columns"
   ]
  },
  {
   "cell_type": "code",
   "execution_count": 38,
   "metadata": {},
   "outputs": [],
   "source": [
    "class  preprocessing(object):\n",
    "\n",
    "    def __init__(self, df):\n",
    "        self.df = df\n",
    "\n",
    "    def remove_outliers(self):\n",
    "        ## remove outliers from the price column for target = 0 using IQR\n",
    "        q1 = self.df[self.df['target'] == 0]['price'].quantile(0.25)\n",
    "        q3 = self.df[self.df['target'] == 0]['price'].quantile(0.75)\n",
    "        iqr = q3 - q1\n",
    "        self.df = self.df[~((self.df['target'] == 0) & (self.df['price'] < (q1 - 1.5 * iqr)) | (self.df['price'] > (q3 + 1.5 * iqr)))]\n",
    "        \n",
    "        ## remove outliers from the price column for target = 1 using IQR\n",
    "        q1_1 = self.df[ self.df['target'] == 1]['price'].quantile(0.25)\n",
    "        q3_1 =  self.df[ self.df['target'] == 1]['price'].quantile(0.75)\n",
    "        iqr_1 = q3_1 - q1_1\n",
    "        self.df = self.df[~((self.df['target'] == 1) & (self.df['price'] < (q1_1 - 1.5 * iqr_1)) | (self.df['price'] > (q3_1 + 1.5 * iqr_1)))]\n",
    "        return self.df\n",
    "\n",
    "    def drop_duplicates(self):\n",
    "        self.df = self.df.drop_duplicates(subset=['price'])\n",
    "        return self.df\n"
   ]
  },
  {
   "cell_type": "code",
   "execution_count": 39,
   "metadata": {},
   "outputs": [],
   "source": [
    "pre = preprocessing(df)\n",
    "df_ = pre.remove_outliers()\n",
    "df_ = pre.drop_duplicates()\n"
   ]
  },
  {
   "cell_type": "code",
   "execution_count": 42,
   "metadata": {},
   "outputs": [
    {
     "data": {
      "text/plain": [
       "(136901, 25)"
      ]
     },
     "execution_count": 42,
     "metadata": {},
     "output_type": "execute_result"
    }
   ],
   "source": [
    "df.shape"
   ]
  },
  {
   "cell_type": "code",
   "execution_count": 41,
   "metadata": {},
   "outputs": [
    {
     "data": {
      "text/plain": [
       "(76472, 25)"
      ]
     },
     "execution_count": 41,
     "metadata": {},
     "output_type": "execute_result"
    }
   ],
   "source": [
    "df_.shape"
   ]
  },
  {
   "cell_type": "code",
   "execution_count": 27,
   "metadata": {},
   "outputs": [],
   "source": [
    "# drop duplicate rows by column 'price'.\n",
    "df = df.drop_duplicates(subset=['price'])"
   ]
  },
  {
   "cell_type": "code",
   "execution_count": 29,
   "metadata": {},
   "outputs": [
    {
     "data": {
      "text/plain": [
       "971864"
      ]
     },
     "execution_count": 29,
     "metadata": {},
     "output_type": "execute_result"
    }
   ],
   "source": [
    "1108765 - 136901"
   ]
  },
  {
   "cell_type": "code",
   "execution_count": 28,
   "metadata": {},
   "outputs": [
    {
     "data": {
      "text/plain": [
       "(136901, 25)"
      ]
     },
     "execution_count": 28,
     "metadata": {},
     "output_type": "execute_result"
    }
   ],
   "source": [
    "df.shape"
   ]
  },
  {
   "cell_type": "markdown",
   "metadata": {},
   "source": [
    "# Feature engineering"
   ]
  },
  {
   "cell_type": "code",
   "execution_count": null,
   "metadata": {},
   "outputs": [],
   "source": [
    "    def split_datetime_col(self):\n",
    "        \"\"\"_summary_: A function to split the datetime columns into year, month, day for the column 'when'.\n",
    "        parameters:\n",
    "            None\n",
    "        returns:\n",
    "            df {dataframe}: A dataframe with the split datetime columns\n",
    "        \"\"\"\n",
    "        self.logger.info(\n",
    "            \"Splitting the datetime column into year, month, day, weekday\")\n",
    "        # Split datetime columns into year, month, day.\n",
    "        for colname in self.df[self.config['date_cols']]:\n",
    "            self.df[colname] = self.df[colname].astype('datetime64[ns]')\n",
    "        # Using split_datetime function from utils.\n",
    "        self.df = split_datetime(self.df, \"when\")\n",
    "        return self.df"
   ]
  },
  {
   "cell_type": "code",
   "execution_count": 10,
   "metadata": {},
   "outputs": [
    {
     "data": {
      "text/plain": [
       "1035.94    320\n",
       "843.45     308\n",
       "645.94     278\n",
       "472.34     264\n",
       "352.74     250\n",
       "          ... \n",
       "2835.16      1\n",
       "1115.81      1\n",
       "939.61       1\n",
       "1265.40      1\n",
       "738.50       1\n",
       "Name: price, Length: 136901, dtype: int64"
      ]
     },
     "execution_count": 10,
     "metadata": {},
     "output_type": "execute_result"
    }
   ],
   "source": [
    "df.price.value_counts()"
   ]
  },
  {
   "cell_type": "code",
   "execution_count": null,
   "metadata": {},
   "outputs": [],
   "source": [
    "for i in df.price.unique():\n",
    "    print(i,df[df.price==i].target.nunique())\n"
   ]
  },
  {
   "cell_type": "code",
   "execution_count": 9,
   "metadata": {},
   "outputs": [
    {
     "data": {
      "text/plain": [
       "4058"
      ]
     },
     "execution_count": 9,
     "metadata": {},
     "output_type": "execute_result"
    }
   ],
   "source": [
    "df.query_id.nunique()"
   ]
  },
  {
   "cell_type": "code",
   "execution_count": null,
   "metadata": {},
   "outputs": [],
   "source": [
    "class preprocessing(object):\n",
    "    "
   ]
  },
  {
   "cell_type": "code",
   "execution_count": 35,
   "metadata": {},
   "outputs": [],
   "source": [
    "class feature_engg(object):\n",
    "    def __init__(self,  df, config):\n",
    "        self.df = df\n",
    "        self.config = config\n",
    "    \n",
    "    def categorify_columns(self):\n",
    "        for col in self.config[\"categorify_columns\"]:\n",
    "            self.df = categorify(df=self.df, cat=col, freq_treshhold=20)\n",
    "        return self.df\n",
    "\n",
    "    def count_encode_columns(self):\n",
    "        for col in self.config[\"count_encode_columns\"]:\n",
    "            self.df = count_encode(self.df, col)\n",
    "            self.logger.info(\n",
    "                \"performing count encoding on column: {}\".format(col))\n",
    "        return self.df"
   ]
  },
  {
   "cell_type": "code",
   "execution_count": 7,
   "metadata": {},
   "outputs": [
    {
     "data": {
      "text/plain": [
       "Index(['query_id', 'veh_id', 'query_date', 'car_feature_1', 'car_feature_2',\n",
       "       'price', 'car_feature_3', 'car_feature_4', 'car_feature_5',\n",
       "       'cont_car_feature_1', 'cont_car_feature_2', 'cont_car_feature_3',\n",
       "       'car_feature_6', 'car_feature_7', 'car_feature_8', 'cont_car_feature_4',\n",
       "       'car_feature_9', 'car_feature_10', 'car_feature_11', 'query_feature_1',\n",
       "       'query_feature_2', 'duration', 'pickup_date', 'query_feature_3',\n",
       "       'target'],\n",
       "      dtype='object')"
      ]
     },
     "execution_count": 7,
     "metadata": {},
     "output_type": "execute_result"
    }
   ],
   "source": []
  },
  {
   "cell_type": "code",
   "execution_count": 37,
   "metadata": {},
   "outputs": [],
   "source": []
  },
  {
   "cell_type": "code",
   "execution_count": 38,
   "metadata": {},
   "outputs": [
    {
     "data": {
      "text/html": [
       "<div>\n",
       "<style scoped>\n",
       "    .dataframe tbody tr th:only-of-type {\n",
       "        vertical-align: middle;\n",
       "    }\n",
       "\n",
       "    .dataframe tbody tr th {\n",
       "        vertical-align: top;\n",
       "    }\n",
       "\n",
       "    .dataframe thead th {\n",
       "        text-align: right;\n",
       "    }\n",
       "</style>\n",
       "<table border=\"1\" class=\"dataframe\">\n",
       "  <thead>\n",
       "    <tr style=\"text-align: right;\">\n",
       "      <th></th>\n",
       "      <th>query_id</th>\n",
       "      <th>veh_id</th>\n",
       "      <th>query_date</th>\n",
       "      <th>car_feature_1</th>\n",
       "      <th>car_feature_2</th>\n",
       "      <th>price</th>\n",
       "      <th>car_feature_3</th>\n",
       "      <th>car_feature_4</th>\n",
       "      <th>car_feature_5</th>\n",
       "      <th>cont_car_feature_1</th>\n",
       "      <th>cont_car_feature_2</th>\n",
       "      <th>cont_car_feature_3</th>\n",
       "      <th>car_feature_6</th>\n",
       "      <th>car_feature_7</th>\n",
       "      <th>car_feature_8</th>\n",
       "      <th>cont_car_feature_4</th>\n",
       "      <th>car_feature_9</th>\n",
       "      <th>car_feature_10</th>\n",
       "      <th>car_feature_11</th>\n",
       "      <th>query_feature_1</th>\n",
       "      <th>query_feature_2</th>\n",
       "      <th>duration</th>\n",
       "      <th>pickup_date</th>\n",
       "      <th>query_feature_3</th>\n",
       "      <th>target</th>\n",
       "    </tr>\n",
       "  </thead>\n",
       "  <tbody>\n",
       "    <tr>\n",
       "      <th>1</th>\n",
       "      <td>102120401529162609</td>\n",
       "      <td>401793302</td>\n",
       "      <td>2017-01-02 12:04:01</td>\n",
       "      <td>1</td>\n",
       "      <td>1</td>\n",
       "      <td>322.12</td>\n",
       "      <td>3</td>\n",
       "      <td>0</td>\n",
       "      <td>0</td>\n",
       "      <td>5</td>\n",
       "      <td>5</td>\n",
       "      <td>5</td>\n",
       "      <td>0</td>\n",
       "      <td>0</td>\n",
       "      <td>3</td>\n",
       "      <td>6.0</td>\n",
       "      <td>16</td>\n",
       "      <td>1</td>\n",
       "      <td>0</td>\n",
       "      <td>0</td>\n",
       "      <td>1</td>\n",
       "      <td>13</td>\n",
       "      <td>2017-02-04 00:00:00</td>\n",
       "      <td>0</td>\n",
       "      <td>0</td>\n",
       "    </tr>\n",
       "    <tr>\n",
       "      <th>2</th>\n",
       "      <td>102120401529162609</td>\n",
       "      <td>2100312948</td>\n",
       "      <td>2017-01-02 12:04:01</td>\n",
       "      <td>0</td>\n",
       "      <td>1</td>\n",
       "      <td>466.38</td>\n",
       "      <td>1</td>\n",
       "      <td>0</td>\n",
       "      <td>1</td>\n",
       "      <td>5</td>\n",
       "      <td>5</td>\n",
       "      <td>5</td>\n",
       "      <td>1</td>\n",
       "      <td>0</td>\n",
       "      <td>3</td>\n",
       "      <td>7.0</td>\n",
       "      <td>21</td>\n",
       "      <td>1</td>\n",
       "      <td>0</td>\n",
       "      <td>0</td>\n",
       "      <td>1</td>\n",
       "      <td>13</td>\n",
       "      <td>2017-02-04 00:00:00</td>\n",
       "      <td>0</td>\n",
       "      <td>0</td>\n",
       "    </tr>\n",
       "    <tr>\n",
       "      <th>3</th>\n",
       "      <td>102120401529162609</td>\n",
       "      <td>1697088827</td>\n",
       "      <td>2017-01-02 12:04:01</td>\n",
       "      <td>0</td>\n",
       "      <td>1</td>\n",
       "      <td>303.52</td>\n",
       "      <td>3</td>\n",
       "      <td>0</td>\n",
       "      <td>1</td>\n",
       "      <td>5</td>\n",
       "      <td>5</td>\n",
       "      <td>5</td>\n",
       "      <td>1</td>\n",
       "      <td>0</td>\n",
       "      <td>3</td>\n",
       "      <td>6.0</td>\n",
       "      <td>22</td>\n",
       "      <td>1</td>\n",
       "      <td>0</td>\n",
       "      <td>0</td>\n",
       "      <td>1</td>\n",
       "      <td>13</td>\n",
       "      <td>2017-02-04 00:00:00</td>\n",
       "      <td>0</td>\n",
       "      <td>0</td>\n",
       "    </tr>\n",
       "    <tr>\n",
       "      <th>4</th>\n",
       "      <td>102120401529162609</td>\n",
       "      <td>682137395</td>\n",
       "      <td>2017-01-02 12:04:01</td>\n",
       "      <td>0</td>\n",
       "      <td>1</td>\n",
       "      <td>282.19</td>\n",
       "      <td>1</td>\n",
       "      <td>0</td>\n",
       "      <td>0</td>\n",
       "      <td>3</td>\n",
       "      <td>1</td>\n",
       "      <td>4</td>\n",
       "      <td>1</td>\n",
       "      <td>0</td>\n",
       "      <td>1</td>\n",
       "      <td>6.0</td>\n",
       "      <td>25</td>\n",
       "      <td>1</td>\n",
       "      <td>0</td>\n",
       "      <td>0</td>\n",
       "      <td>1</td>\n",
       "      <td>13</td>\n",
       "      <td>2017-02-04 00:00:00</td>\n",
       "      <td>0</td>\n",
       "      <td>0</td>\n",
       "    </tr>\n",
       "    <tr>\n",
       "      <th>5</th>\n",
       "      <td>102120401529162609</td>\n",
       "      <td>775738478</td>\n",
       "      <td>2017-01-02 12:04:01</td>\n",
       "      <td>0</td>\n",
       "      <td>1</td>\n",
       "      <td>318.60</td>\n",
       "      <td>1</td>\n",
       "      <td>0</td>\n",
       "      <td>0</td>\n",
       "      <td>5</td>\n",
       "      <td>1</td>\n",
       "      <td>4</td>\n",
       "      <td>1</td>\n",
       "      <td>0</td>\n",
       "      <td>0</td>\n",
       "      <td>7.0</td>\n",
       "      <td>32</td>\n",
       "      <td>1</td>\n",
       "      <td>0</td>\n",
       "      <td>0</td>\n",
       "      <td>1</td>\n",
       "      <td>13</td>\n",
       "      <td>2017-02-04 00:00:00</td>\n",
       "      <td>0</td>\n",
       "      <td>0</td>\n",
       "    </tr>\n",
       "  </tbody>\n",
       "</table>\n",
       "</div>"
      ],
      "text/plain": [
       "             query_id      veh_id           query_date  car_feature_1  \\\n",
       "1  102120401529162609   401793302  2017-01-02 12:04:01              1   \n",
       "2  102120401529162609  2100312948  2017-01-02 12:04:01              0   \n",
       "3  102120401529162609  1697088827  2017-01-02 12:04:01              0   \n",
       "4  102120401529162609   682137395  2017-01-02 12:04:01              0   \n",
       "5  102120401529162609   775738478  2017-01-02 12:04:01              0   \n",
       "\n",
       "   car_feature_2   price  car_feature_3  car_feature_4  car_feature_5  \\\n",
       "1              1  322.12              3              0              0   \n",
       "2              1  466.38              1              0              1   \n",
       "3              1  303.52              3              0              1   \n",
       "4              1  282.19              1              0              0   \n",
       "5              1  318.60              1              0              0   \n",
       "\n",
       "   cont_car_feature_1  cont_car_feature_2  cont_car_feature_3  car_feature_6  \\\n",
       "1                   5                   5                   5              0   \n",
       "2                   5                   5                   5              1   \n",
       "3                   5                   5                   5              1   \n",
       "4                   3                   1                   4              1   \n",
       "5                   5                   1                   4              1   \n",
       "\n",
       "   car_feature_7  car_feature_8  cont_car_feature_4  car_feature_9  \\\n",
       "1              0              3                 6.0             16   \n",
       "2              0              3                 7.0             21   \n",
       "3              0              3                 6.0             22   \n",
       "4              0              1                 6.0             25   \n",
       "5              0              0                 7.0             32   \n",
       "\n",
       "   car_feature_10 car_feature_11  query_feature_1  query_feature_2  duration  \\\n",
       "1               1              0                0                1        13   \n",
       "2               1              0                0                1        13   \n",
       "3               1              0                0                1        13   \n",
       "4               1              0                0                1        13   \n",
       "5               1              0                0                1        13   \n",
       "\n",
       "           pickup_date  query_feature_3 target  \n",
       "1  2017-02-04 00:00:00                0      0  \n",
       "2  2017-02-04 00:00:00                0      0  \n",
       "3  2017-02-04 00:00:00                0      0  \n",
       "4  2017-02-04 00:00:00                0      0  \n",
       "5  2017-02-04 00:00:00                0      0  "
      ]
     },
     "execution_count": 38,
     "metadata": {},
     "output_type": "execute_result"
    }
   ],
   "source": []
  },
  {
   "cell_type": "code",
   "execution_count": 39,
   "metadata": {},
   "outputs": [
    {
     "name": "stderr",
     "output_type": "stream",
     "text": [
      "C:\\Users\\viraj\\AppData\\Roaming\\Python\\Python38\\site-packages\\category_encoders\\target_encoder.py:92: FutureWarning: Default parameter min_samples_leaf will change in version 2.6.See https://github.com/scikit-learn-contrib/category_encoders/issues/327\n",
      "  warnings.warn(\"Default parameter min_samples_leaf will change in version 2.6.\"\n",
      "C:\\Users\\viraj\\AppData\\Roaming\\Python\\Python38\\site-packages\\category_encoders\\target_encoder.py:97: FutureWarning: Default parameter smoothing will change in version 2.6.See https://github.com/scikit-learn-contrib/category_encoders/issues/327\n",
      "  warnings.warn(\"Default parameter smoothing will change in version 2.6.\"\n"
     ]
    },
    {
     "ename": "TypeError",
     "evalue": "'Categorical' does not implement reduction 'mean'",
     "output_type": "error",
     "traceback": [
      "\u001b[1;31m---------------------------------------------------------------------------\u001b[0m",
      "\u001b[1;31mTypeError\u001b[0m                                 Traceback (most recent call last)",
      "\u001b[1;32m<ipython-input-39-f29030f40380>\u001b[0m in \u001b[0;36m<module>\u001b[1;34m\u001b[0m\n\u001b[0;32m      4\u001b[0m \u001b[0mX_train\u001b[0m \u001b[1;33m=\u001b[0m \u001b[0mcat\u001b[0m\u001b[1;33m\u001b[0m\u001b[1;33m\u001b[0m\u001b[0m\n\u001b[0;32m      5\u001b[0m \u001b[0my_train\u001b[0m \u001b[1;33m=\u001b[0m \u001b[0mdf\u001b[0m\u001b[1;33m[\u001b[0m\u001b[1;33m[\u001b[0m\u001b[1;34m'target'\u001b[0m\u001b[1;33m]\u001b[0m\u001b[1;33m]\u001b[0m\u001b[1;33m\u001b[0m\u001b[1;33m\u001b[0m\u001b[0m\n\u001b[1;32m----> 6\u001b[1;33m \u001b[0mtraining_set\u001b[0m \u001b[1;33m=\u001b[0m \u001b[0menc\u001b[0m\u001b[1;33m.\u001b[0m\u001b[0mfit\u001b[0m\u001b[1;33m(\u001b[0m\u001b[0mX_train\u001b[0m\u001b[1;33m,\u001b[0m \u001b[0my_train\u001b[0m\u001b[1;33m)\u001b[0m\u001b[1;33m\u001b[0m\u001b[1;33m\u001b[0m\u001b[0m\n\u001b[0m\u001b[0;32m      7\u001b[0m \u001b[0mtraining_set\u001b[0m \u001b[1;33m=\u001b[0m \u001b[0menc\u001b[0m\u001b[1;33m.\u001b[0m\u001b[0mtransform\u001b[0m\u001b[1;33m(\u001b[0m\u001b[0mX_train\u001b[0m\u001b[1;33m)\u001b[0m\u001b[1;33m\u001b[0m\u001b[1;33m\u001b[0m\u001b[0m\n\u001b[0;32m      8\u001b[0m \u001b[0mtraining_set\u001b[0m\u001b[1;33m.\u001b[0m\u001b[0mhead\u001b[0m\u001b[1;33m(\u001b[0m\u001b[1;33m)\u001b[0m\u001b[1;33m\u001b[0m\u001b[1;33m\u001b[0m\u001b[0m\n",
      "\u001b[1;32m~\\AppData\\Roaming\\Python\\Python38\\site-packages\\category_encoders\\utils.py\u001b[0m in \u001b[0;36mfit\u001b[1;34m(self, X, y, **kwargs)\u001b[0m\n\u001b[0;32m    293\u001b[0m                 \u001b[1;32mraise\u001b[0m \u001b[0mValueError\u001b[0m\u001b[1;33m(\u001b[0m\u001b[1;34m'Columns to be encoded can not contain null'\u001b[0m\u001b[1;33m)\u001b[0m\u001b[1;33m\u001b[0m\u001b[1;33m\u001b[0m\u001b[0m\n\u001b[0;32m    294\u001b[0m \u001b[1;33m\u001b[0m\u001b[0m\n\u001b[1;32m--> 295\u001b[1;33m         \u001b[0mself\u001b[0m\u001b[1;33m.\u001b[0m\u001b[0m_fit\u001b[0m\u001b[1;33m(\u001b[0m\u001b[0mX\u001b[0m\u001b[1;33m,\u001b[0m \u001b[0my\u001b[0m\u001b[1;33m,\u001b[0m \u001b[1;33m**\u001b[0m\u001b[0mkwargs\u001b[0m\u001b[1;33m)\u001b[0m\u001b[1;33m\u001b[0m\u001b[1;33m\u001b[0m\u001b[0m\n\u001b[0m\u001b[0;32m    296\u001b[0m \u001b[1;33m\u001b[0m\u001b[0m\n\u001b[0;32m    297\u001b[0m         \u001b[1;31m# for finding invariant columns transform without y (as is done on the test set)\u001b[0m\u001b[1;33m\u001b[0m\u001b[1;33m\u001b[0m\u001b[1;33m\u001b[0m\u001b[0m\n",
      "\u001b[1;32m~\\AppData\\Roaming\\Python\\Python38\\site-packages\\category_encoders\\target_encoder.py\u001b[0m in \u001b[0;36m_fit\u001b[1;34m(self, X, y, **kwargs)\u001b[0m\n\u001b[0;32m    110\u001b[0m         \u001b[0mself\u001b[0m\u001b[1;33m.\u001b[0m\u001b[0mordinal_encoder\u001b[0m \u001b[1;33m=\u001b[0m \u001b[0mself\u001b[0m\u001b[1;33m.\u001b[0m\u001b[0mordinal_encoder\u001b[0m\u001b[1;33m.\u001b[0m\u001b[0mfit\u001b[0m\u001b[1;33m(\u001b[0m\u001b[0mX\u001b[0m\u001b[1;33m)\u001b[0m\u001b[1;33m\u001b[0m\u001b[1;33m\u001b[0m\u001b[0m\n\u001b[0;32m    111\u001b[0m         \u001b[0mX_ordinal\u001b[0m \u001b[1;33m=\u001b[0m \u001b[0mself\u001b[0m\u001b[1;33m.\u001b[0m\u001b[0mordinal_encoder\u001b[0m\u001b[1;33m.\u001b[0m\u001b[0mtransform\u001b[0m\u001b[1;33m(\u001b[0m\u001b[0mX\u001b[0m\u001b[1;33m)\u001b[0m\u001b[1;33m\u001b[0m\u001b[1;33m\u001b[0m\u001b[0m\n\u001b[1;32m--> 112\u001b[1;33m         \u001b[0mself\u001b[0m\u001b[1;33m.\u001b[0m\u001b[0mmapping\u001b[0m \u001b[1;33m=\u001b[0m \u001b[0mself\u001b[0m\u001b[1;33m.\u001b[0m\u001b[0mfit_target_encoding\u001b[0m\u001b[1;33m(\u001b[0m\u001b[0mX_ordinal\u001b[0m\u001b[1;33m,\u001b[0m \u001b[0my\u001b[0m\u001b[1;33m)\u001b[0m\u001b[1;33m\u001b[0m\u001b[1;33m\u001b[0m\u001b[0m\n\u001b[0m\u001b[0;32m    113\u001b[0m \u001b[1;33m\u001b[0m\u001b[0m\n\u001b[0;32m    114\u001b[0m     \u001b[1;32mdef\u001b[0m \u001b[0mfit_target_encoding\u001b[0m\u001b[1;33m(\u001b[0m\u001b[0mself\u001b[0m\u001b[1;33m,\u001b[0m \u001b[0mX\u001b[0m\u001b[1;33m,\u001b[0m \u001b[0my\u001b[0m\u001b[1;33m)\u001b[0m\u001b[1;33m:\u001b[0m\u001b[1;33m\u001b[0m\u001b[1;33m\u001b[0m\u001b[0m\n",
      "\u001b[1;32m~\\AppData\\Roaming\\Python\\Python38\\site-packages\\category_encoders\\target_encoder.py\u001b[0m in \u001b[0;36mfit_target_encoding\u001b[1;34m(self, X, y)\u001b[0m\n\u001b[0;32m    119\u001b[0m             \u001b[0mvalues\u001b[0m \u001b[1;33m=\u001b[0m \u001b[0mswitch\u001b[0m\u001b[1;33m.\u001b[0m\u001b[0mget\u001b[0m\u001b[1;33m(\u001b[0m\u001b[1;34m'mapping'\u001b[0m\u001b[1;33m)\u001b[0m\u001b[1;33m\u001b[0m\u001b[1;33m\u001b[0m\u001b[0m\n\u001b[0;32m    120\u001b[0m \u001b[1;33m\u001b[0m\u001b[0m\n\u001b[1;32m--> 121\u001b[1;33m             \u001b[0mprior\u001b[0m \u001b[1;33m=\u001b[0m \u001b[0mself\u001b[0m\u001b[1;33m.\u001b[0m\u001b[0m_mean\u001b[0m \u001b[1;33m=\u001b[0m \u001b[0my\u001b[0m\u001b[1;33m.\u001b[0m\u001b[0mmean\u001b[0m\u001b[1;33m(\u001b[0m\u001b[1;33m)\u001b[0m\u001b[1;33m\u001b[0m\u001b[1;33m\u001b[0m\u001b[0m\n\u001b[0m\u001b[0;32m    122\u001b[0m \u001b[1;33m\u001b[0m\u001b[0m\n\u001b[0;32m    123\u001b[0m             \u001b[0mstats\u001b[0m \u001b[1;33m=\u001b[0m \u001b[0my\u001b[0m\u001b[1;33m.\u001b[0m\u001b[0mgroupby\u001b[0m\u001b[1;33m(\u001b[0m\u001b[0mX\u001b[0m\u001b[1;33m[\u001b[0m\u001b[0mcol\u001b[0m\u001b[1;33m]\u001b[0m\u001b[1;33m)\u001b[0m\u001b[1;33m.\u001b[0m\u001b[0magg\u001b[0m\u001b[1;33m(\u001b[0m\u001b[1;33m[\u001b[0m\u001b[1;34m'count'\u001b[0m\u001b[1;33m,\u001b[0m \u001b[1;34m'mean'\u001b[0m\u001b[1;33m]\u001b[0m\u001b[1;33m)\u001b[0m\u001b[1;33m\u001b[0m\u001b[1;33m\u001b[0m\u001b[0m\n",
      "\u001b[1;32mc:\\ProgramData\\Anaconda3\\lib\\site-packages\\pandas\\core\\generic.py\u001b[0m in \u001b[0;36mmean\u001b[1;34m(self, axis, skipna, level, numeric_only, **kwargs)\u001b[0m\n\u001b[0;32m  11116\u001b[0m         )\n\u001b[0;32m  11117\u001b[0m         \u001b[1;32mdef\u001b[0m \u001b[0mmean\u001b[0m\u001b[1;33m(\u001b[0m\u001b[0mself\u001b[0m\u001b[1;33m,\u001b[0m \u001b[0maxis\u001b[0m\u001b[1;33m=\u001b[0m\u001b[1;32mNone\u001b[0m\u001b[1;33m,\u001b[0m \u001b[0mskipna\u001b[0m\u001b[1;33m=\u001b[0m\u001b[1;32mNone\u001b[0m\u001b[1;33m,\u001b[0m \u001b[0mlevel\u001b[0m\u001b[1;33m=\u001b[0m\u001b[1;32mNone\u001b[0m\u001b[1;33m,\u001b[0m \u001b[0mnumeric_only\u001b[0m\u001b[1;33m=\u001b[0m\u001b[1;32mNone\u001b[0m\u001b[1;33m,\u001b[0m \u001b[1;33m**\u001b[0m\u001b[0mkwargs\u001b[0m\u001b[1;33m)\u001b[0m\u001b[1;33m:\u001b[0m\u001b[1;33m\u001b[0m\u001b[1;33m\u001b[0m\u001b[0m\n\u001b[1;32m> 11118\u001b[1;33m             \u001b[1;32mreturn\u001b[0m \u001b[0mNDFrame\u001b[0m\u001b[1;33m.\u001b[0m\u001b[0mmean\u001b[0m\u001b[1;33m(\u001b[0m\u001b[0mself\u001b[0m\u001b[1;33m,\u001b[0m \u001b[0maxis\u001b[0m\u001b[1;33m,\u001b[0m \u001b[0mskipna\u001b[0m\u001b[1;33m,\u001b[0m \u001b[0mlevel\u001b[0m\u001b[1;33m,\u001b[0m \u001b[0mnumeric_only\u001b[0m\u001b[1;33m,\u001b[0m \u001b[1;33m**\u001b[0m\u001b[0mkwargs\u001b[0m\u001b[1;33m)\u001b[0m\u001b[1;33m\u001b[0m\u001b[1;33m\u001b[0m\u001b[0m\n\u001b[0m\u001b[0;32m  11119\u001b[0m \u001b[1;33m\u001b[0m\u001b[0m\n\u001b[0;32m  11120\u001b[0m         \u001b[1;31m# pandas\\core\\generic.py:10924: error: Cannot assign to a method\u001b[0m\u001b[1;33m\u001b[0m\u001b[1;33m\u001b[0m\u001b[1;33m\u001b[0m\u001b[0m\n",
      "\u001b[1;32mc:\\ProgramData\\Anaconda3\\lib\\site-packages\\pandas\\core\\generic.py\u001b[0m in \u001b[0;36mmean\u001b[1;34m(self, axis, skipna, level, numeric_only, **kwargs)\u001b[0m\n\u001b[0;32m  10724\u001b[0m \u001b[1;33m\u001b[0m\u001b[0m\n\u001b[0;32m  10725\u001b[0m     \u001b[1;32mdef\u001b[0m \u001b[0mmean\u001b[0m\u001b[1;33m(\u001b[0m\u001b[0mself\u001b[0m\u001b[1;33m,\u001b[0m \u001b[0maxis\u001b[0m\u001b[1;33m=\u001b[0m\u001b[1;32mNone\u001b[0m\u001b[1;33m,\u001b[0m \u001b[0mskipna\u001b[0m\u001b[1;33m=\u001b[0m\u001b[1;32mNone\u001b[0m\u001b[1;33m,\u001b[0m \u001b[0mlevel\u001b[0m\u001b[1;33m=\u001b[0m\u001b[1;32mNone\u001b[0m\u001b[1;33m,\u001b[0m \u001b[0mnumeric_only\u001b[0m\u001b[1;33m=\u001b[0m\u001b[1;32mNone\u001b[0m\u001b[1;33m,\u001b[0m \u001b[1;33m**\u001b[0m\u001b[0mkwargs\u001b[0m\u001b[1;33m)\u001b[0m\u001b[1;33m:\u001b[0m\u001b[1;33m\u001b[0m\u001b[1;33m\u001b[0m\u001b[0m\n\u001b[1;32m> 10726\u001b[1;33m         return self._stat_function(\n\u001b[0m\u001b[0;32m  10727\u001b[0m             \u001b[1;34m\"mean\"\u001b[0m\u001b[1;33m,\u001b[0m \u001b[0mnanops\u001b[0m\u001b[1;33m.\u001b[0m\u001b[0mnanmean\u001b[0m\u001b[1;33m,\u001b[0m \u001b[0maxis\u001b[0m\u001b[1;33m,\u001b[0m \u001b[0mskipna\u001b[0m\u001b[1;33m,\u001b[0m \u001b[0mlevel\u001b[0m\u001b[1;33m,\u001b[0m \u001b[0mnumeric_only\u001b[0m\u001b[1;33m,\u001b[0m \u001b[1;33m**\u001b[0m\u001b[0mkwargs\u001b[0m\u001b[1;33m\u001b[0m\u001b[1;33m\u001b[0m\u001b[0m\n\u001b[0;32m  10728\u001b[0m         )\n",
      "\u001b[1;32mc:\\ProgramData\\Anaconda3\\lib\\site-packages\\pandas\\core\\generic.py\u001b[0m in \u001b[0;36m_stat_function\u001b[1;34m(self, name, func, axis, skipna, level, numeric_only, **kwargs)\u001b[0m\n\u001b[0;32m  10709\u001b[0m         \u001b[1;32mif\u001b[0m \u001b[0mlevel\u001b[0m \u001b[1;32mis\u001b[0m \u001b[1;32mnot\u001b[0m \u001b[1;32mNone\u001b[0m\u001b[1;33m:\u001b[0m\u001b[1;33m\u001b[0m\u001b[1;33m\u001b[0m\u001b[0m\n\u001b[0;32m  10710\u001b[0m             \u001b[1;32mreturn\u001b[0m \u001b[0mself\u001b[0m\u001b[1;33m.\u001b[0m\u001b[0m_agg_by_level\u001b[0m\u001b[1;33m(\u001b[0m\u001b[0mname\u001b[0m\u001b[1;33m,\u001b[0m \u001b[0maxis\u001b[0m\u001b[1;33m=\u001b[0m\u001b[0maxis\u001b[0m\u001b[1;33m,\u001b[0m \u001b[0mlevel\u001b[0m\u001b[1;33m=\u001b[0m\u001b[0mlevel\u001b[0m\u001b[1;33m,\u001b[0m \u001b[0mskipna\u001b[0m\u001b[1;33m=\u001b[0m\u001b[0mskipna\u001b[0m\u001b[1;33m)\u001b[0m\u001b[1;33m\u001b[0m\u001b[1;33m\u001b[0m\u001b[0m\n\u001b[1;32m> 10711\u001b[1;33m         return self._reduce(\n\u001b[0m\u001b[0;32m  10712\u001b[0m             \u001b[0mfunc\u001b[0m\u001b[1;33m,\u001b[0m \u001b[0mname\u001b[0m\u001b[1;33m=\u001b[0m\u001b[0mname\u001b[0m\u001b[1;33m,\u001b[0m \u001b[0maxis\u001b[0m\u001b[1;33m=\u001b[0m\u001b[0maxis\u001b[0m\u001b[1;33m,\u001b[0m \u001b[0mskipna\u001b[0m\u001b[1;33m=\u001b[0m\u001b[0mskipna\u001b[0m\u001b[1;33m,\u001b[0m \u001b[0mnumeric_only\u001b[0m\u001b[1;33m=\u001b[0m\u001b[0mnumeric_only\u001b[0m\u001b[1;33m\u001b[0m\u001b[1;33m\u001b[0m\u001b[0m\n\u001b[0;32m  10713\u001b[0m         )\n",
      "\u001b[1;32mc:\\ProgramData\\Anaconda3\\lib\\site-packages\\pandas\\core\\series.py\u001b[0m in \u001b[0;36m_reduce\u001b[1;34m(self, op, name, axis, skipna, numeric_only, filter_type, **kwds)\u001b[0m\n\u001b[0;32m   4171\u001b[0m         \u001b[1;32mif\u001b[0m \u001b[0misinstance\u001b[0m\u001b[1;33m(\u001b[0m\u001b[0mdelegate\u001b[0m\u001b[1;33m,\u001b[0m \u001b[0mExtensionArray\u001b[0m\u001b[1;33m)\u001b[0m\u001b[1;33m:\u001b[0m\u001b[1;33m\u001b[0m\u001b[1;33m\u001b[0m\u001b[0m\n\u001b[0;32m   4172\u001b[0m             \u001b[1;31m# dispatch to ExtensionArray interface\u001b[0m\u001b[1;33m\u001b[0m\u001b[1;33m\u001b[0m\u001b[1;33m\u001b[0m\u001b[0m\n\u001b[1;32m-> 4173\u001b[1;33m             \u001b[1;32mreturn\u001b[0m \u001b[0mdelegate\u001b[0m\u001b[1;33m.\u001b[0m\u001b[0m_reduce\u001b[0m\u001b[1;33m(\u001b[0m\u001b[0mname\u001b[0m\u001b[1;33m,\u001b[0m \u001b[0mskipna\u001b[0m\u001b[1;33m=\u001b[0m\u001b[0mskipna\u001b[0m\u001b[1;33m,\u001b[0m \u001b[1;33m**\u001b[0m\u001b[0mkwds\u001b[0m\u001b[1;33m)\u001b[0m\u001b[1;33m\u001b[0m\u001b[1;33m\u001b[0m\u001b[0m\n\u001b[0m\u001b[0;32m   4174\u001b[0m \u001b[1;33m\u001b[0m\u001b[0m\n\u001b[0;32m   4175\u001b[0m         \u001b[1;32melse\u001b[0m\u001b[1;33m:\u001b[0m\u001b[1;33m\u001b[0m\u001b[1;33m\u001b[0m\u001b[0m\n",
      "\u001b[1;32mc:\\ProgramData\\Anaconda3\\lib\\site-packages\\pandas\\core\\arrays\\_mixins.py\u001b[0m in \u001b[0;36m_reduce\u001b[1;34m(self, name, skipna, **kwargs)\u001b[0m\n\u001b[0;32m    274\u001b[0m         \u001b[1;32melse\u001b[0m\u001b[1;33m:\u001b[0m\u001b[1;33m\u001b[0m\u001b[1;33m\u001b[0m\u001b[0m\n\u001b[0;32m    275\u001b[0m             \u001b[0mmsg\u001b[0m \u001b[1;33m=\u001b[0m \u001b[1;34mf\"'{type(self).__name__}' does not implement reduction '{name}'\"\u001b[0m\u001b[1;33m\u001b[0m\u001b[1;33m\u001b[0m\u001b[0m\n\u001b[1;32m--> 276\u001b[1;33m             \u001b[1;32mraise\u001b[0m \u001b[0mTypeError\u001b[0m\u001b[1;33m(\u001b[0m\u001b[0mmsg\u001b[0m\u001b[1;33m)\u001b[0m\u001b[1;33m\u001b[0m\u001b[1;33m\u001b[0m\u001b[0m\n\u001b[0m\u001b[0;32m    277\u001b[0m \u001b[1;33m\u001b[0m\u001b[0m\n\u001b[0;32m    278\u001b[0m     \u001b[1;32mdef\u001b[0m \u001b[0m_wrap_reduction_result\u001b[0m\u001b[1;33m(\u001b[0m\u001b[0mself\u001b[0m\u001b[1;33m,\u001b[0m \u001b[0maxis\u001b[0m\u001b[1;33m:\u001b[0m \u001b[0mOptional\u001b[0m\u001b[1;33m[\u001b[0m\u001b[0mint\u001b[0m\u001b[1;33m]\u001b[0m\u001b[1;33m,\u001b[0m \u001b[0mresult\u001b[0m\u001b[1;33m)\u001b[0m\u001b[1;33m:\u001b[0m\u001b[1;33m\u001b[0m\u001b[1;33m\u001b[0m\u001b[0m\n",
      "\u001b[1;31mTypeError\u001b[0m: 'Categorical' does not implement reduction 'mean'"
     ]
    }
   ],
   "source": [
    "from category_encoders import TargetEncoder\n",
    "enc = TargetEncoder()\n",
    "cat = df[[x for x in config['cat_cols'] if x != 'target']]\n",
    "X_train = cat\n",
    "y_train = df[['target']]\n",
    "training_set = enc.fit(X_train, y_train)\n",
    "training_set = enc.transform(X_train)\n",
    "training_set.head()"
   ]
  },
  {
   "cell_type": "code",
   "execution_count": null,
   "metadata": {},
   "outputs": [],
   "source": [
    "training_set.car_feature_11.value_counts()"
   ]
  },
  {
   "cell_type": "code",
   "execution_count": null,
   "metadata": {},
   "outputs": [],
   "source": [
    "df['car_feature_11'].unique()"
   ]
  },
  {
   "cell_type": "code",
   "execution_count": null,
   "metadata": {},
   "outputs": [],
   "source": [
    "class feature_engg(objecat):"
   ]
  }
 ],
 "metadata": {
  "kernelspec": {
   "display_name": "Python 3.8.8 ('base')",
   "language": "python",
   "name": "python3"
  },
  "language_info": {
   "codemirror_mode": {
    "name": "ipython",
    "version": 3
   },
   "file_extension": ".py",
   "mimetype": "text/x-python",
   "name": "python",
   "nbconvert_exporter": "python",
   "pygments_lexer": "ipython3",
   "version": "3.8.8"
  },
  "orig_nbformat": 4,
  "vscode": {
   "interpreter": {
    "hash": "ad2bdc8ecc057115af97d19610ffacc2b4e99fae6737bb82f5d7fb13d2f2c186"
   }
  }
 },
 "nbformat": 4,
 "nbformat_minor": 2
}
