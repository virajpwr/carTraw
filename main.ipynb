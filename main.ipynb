{
 "cells": [
  {
   "cell_type": "code",
   "execution_count": 1,
   "metadata": {},
   "outputs": [],
   "source": [
    "import pandas as pd\n",
    "from scipy.stats import boxcox\n",
    "import matplotlib.pyplot as plt\n",
    "from scipy.stats import shapiro\n",
    "\n",
    "df = pd.read_csv('data.csv', sep='|', header=None)\n",
    "# show all columns\n",
    "pd.set_option('display.max_columns', None)"
   ]
  },
  {
   "cell_type": "markdown",
   "metadata": {},
   "source": [
    "#### Rename columns"
   ]
  },
  {
   "cell_type": "code",
   "execution_count": 2,
   "metadata": {},
   "outputs": [],
   "source": [
    "'''rename columns with the following: query_id, veh_id, query_date, car_feature_1, car_feature_2, price, car_feature_3, car_feature_4, car_feature_5, cont_car_feature_1,\n",
    "    cont_car_feature_2, cont_car_feature_3, car_feature_6, car_feature_7, car_feature_8, cont_car_feature_3,car_feature_9, car_feature_10,car_feature_11, query_feature_1,\n",
    "     query_feature_2, duration, pickup_date,  query_feature_3, target\n",
    "'''\n",
    "df.columns = ['query_id', 'veh_id', 'query_date', 'car_feature_1', 'car_feature_2', 'price', 'car_feature_3', 'car_feature_4', 'car_feature_5', 'cont_car_feature_1', 'cont_car_feature_2', 'cont_car_feature_3', 'car_feature_6', 'car_feature_7', 'car_feature_8', 'cont_car_feature_4', 'car_feature_9', 'car_feature_10', 'car_feature_11', 'query_feature_1', 'query_feature_2', 'duration', 'pickup_date', 'query_feature_3', 'target']\n"
   ]
  },
  {
   "cell_type": "code",
   "execution_count": 3,
   "metadata": {},
   "outputs": [
    {
     "data": {
      "text/html": [
       "<div>\n",
       "<style scoped>\n",
       "    .dataframe tbody tr th:only-of-type {\n",
       "        vertical-align: middle;\n",
       "    }\n",
       "\n",
       "    .dataframe tbody tr th {\n",
       "        vertical-align: top;\n",
       "    }\n",
       "\n",
       "    .dataframe thead th {\n",
       "        text-align: right;\n",
       "    }\n",
       "</style>\n",
       "<table border=\"1\" class=\"dataframe\">\n",
       "  <thead>\n",
       "    <tr style=\"text-align: right;\">\n",
       "      <th></th>\n",
       "      <th>query_id</th>\n",
       "      <th>veh_id</th>\n",
       "      <th>query_date</th>\n",
       "      <th>car_feature_1</th>\n",
       "      <th>car_feature_2</th>\n",
       "      <th>price</th>\n",
       "      <th>car_feature_3</th>\n",
       "      <th>car_feature_4</th>\n",
       "      <th>car_feature_5</th>\n",
       "      <th>cont_car_feature_1</th>\n",
       "      <th>cont_car_feature_2</th>\n",
       "      <th>cont_car_feature_3</th>\n",
       "      <th>car_feature_6</th>\n",
       "      <th>car_feature_7</th>\n",
       "      <th>car_feature_8</th>\n",
       "      <th>cont_car_feature_4</th>\n",
       "      <th>car_feature_9</th>\n",
       "      <th>car_feature_10</th>\n",
       "      <th>car_feature_11</th>\n",
       "      <th>query_feature_1</th>\n",
       "      <th>query_feature_2</th>\n",
       "      <th>duration</th>\n",
       "      <th>pickup_date</th>\n",
       "      <th>query_feature_3</th>\n",
       "      <th>target</th>\n",
       "    </tr>\n",
       "  </thead>\n",
       "  <tbody>\n",
       "    <tr>\n",
       "      <th>0</th>\n",
       "      <td>102120401529162609</td>\n",
       "      <td>1001396153</td>\n",
       "      <td>2017-01-02 12:04:01</td>\n",
       "      <td>2</td>\n",
       "      <td>1</td>\n",
       "      <td>750.26</td>\n",
       "      <td>2</td>\n",
       "      <td>1</td>\n",
       "      <td>1</td>\n",
       "      <td>5</td>\n",
       "      <td>1</td>\n",
       "      <td>7</td>\n",
       "      <td>1</td>\n",
       "      <td>0</td>\n",
       "      <td>8</td>\n",
       "      <td>8.0</td>\n",
       "      <td>385</td>\n",
       "      <td>3</td>\n",
       "      <td>1</td>\n",
       "      <td>1</td>\n",
       "      <td>2</td>\n",
       "      <td>14.0</td>\n",
       "      <td>2017-02-04 00:00:00</td>\n",
       "      <td>71</td>\n",
       "      <td>0</td>\n",
       "    </tr>\n",
       "    <tr>\n",
       "      <th>1</th>\n",
       "      <td>102120401529162609</td>\n",
       "      <td>401793302</td>\n",
       "      <td>2017-01-02 12:04:01</td>\n",
       "      <td>2</td>\n",
       "      <td>1</td>\n",
       "      <td>322.12</td>\n",
       "      <td>4</td>\n",
       "      <td>1</td>\n",
       "      <td>1</td>\n",
       "      <td>5</td>\n",
       "      <td>5</td>\n",
       "      <td>5</td>\n",
       "      <td>0</td>\n",
       "      <td>0</td>\n",
       "      <td>4</td>\n",
       "      <td>6.0</td>\n",
       "      <td>1368</td>\n",
       "      <td>3</td>\n",
       "      <td>0</td>\n",
       "      <td>1</td>\n",
       "      <td>2</td>\n",
       "      <td>14.0</td>\n",
       "      <td>2017-02-04 00:00:00</td>\n",
       "      <td>71</td>\n",
       "      <td>0</td>\n",
       "    </tr>\n",
       "  </tbody>\n",
       "</table>\n",
       "</div>"
      ],
      "text/plain": [
       "             query_id      veh_id           query_date  car_feature_1  \\\n",
       "0  102120401529162609  1001396153  2017-01-02 12:04:01              2   \n",
       "1  102120401529162609   401793302  2017-01-02 12:04:01              2   \n",
       "\n",
       "   car_feature_2   price  car_feature_3  car_feature_4  car_feature_5  \\\n",
       "0              1  750.26              2              1              1   \n",
       "1              1  322.12              4              1              1   \n",
       "\n",
       "   cont_car_feature_1  cont_car_feature_2  cont_car_feature_3  car_feature_6  \\\n",
       "0                   5                   1                   7              1   \n",
       "1                   5                   5                   5              0   \n",
       "\n",
       "   car_feature_7  car_feature_8  cont_car_feature_4  car_feature_9  \\\n",
       "0              0              8                 8.0            385   \n",
       "1              0              4                 6.0           1368   \n",
       "\n",
       "   car_feature_10  car_feature_11  query_feature_1  query_feature_2  duration  \\\n",
       "0               3               1                1                2      14.0   \n",
       "1               3               0                1                2      14.0   \n",
       "\n",
       "           pickup_date  query_feature_3  target  \n",
       "0  2017-02-04 00:00:00               71       0  \n",
       "1  2017-02-04 00:00:00               71       0  "
      ]
     },
     "execution_count": 3,
     "metadata": {},
     "output_type": "execute_result"
    }
   ],
   "source": [
    "df.head(2)"
   ]
  },
  {
   "cell_type": "code",
   "execution_count": 4,
   "metadata": {},
   "outputs": [
    {
     "name": "stdout",
     "output_type": "stream",
     "text": [
      "car_feature_1 [2 1 3]\n",
      "car_feature_2 [1 0]\n",
      "car_feature_3 [ 2  4  1 11  5  0]\n",
      "car_feature_4 [1 9 7 8]\n",
      "car_feature_5 [1 2 5 3 4]\n",
      "car_feature_6 [1 0]\n",
      "car_feature_7 [0 1]\n",
      "car_feature_8 [ 8  4  2  1  7  3  9 11 10  6  5 15 13 14 12 16]\n",
      "car_feature_9 [ 385 1368 1741 1912 1960 2336   47 3059  479  298 1136   84  505 2343\n",
      " 2645  139 1715 2121 2652 3008 1689 2375 2789 2935 1613 2469 1246 3138\n",
      "  420 2354  306 2837  321 2707 2913 1959 2087 2365 2300 2927 3167  222\n",
      " 1952  299 2294 3066 6021 2168  968 3083 2798 3140 1962 2535 2574 1075\n",
      " 1660 2184]\n",
      "car_feature_10 [ 3  2 13 15 17 12]\n",
      "car_feature_11 [1 0]\n",
      "query_feature_1 [ 1  7  3 15  2 19  6 16 13  5 12 10  4 18  8 35 11 17 24  9 45 25 14 23\n",
      " 27 22 38 32 31 37 20 40 42 29 30 26 21 44 34 46 39 41 36 33]\n",
      "query_feature_2 [2 1]\n",
      "query_feature_3 [  71 2492]\n",
      "duration [14  7 21  8  3 10  4  9 12 15 19 11  5  6  1 17 28 25 16 18 22 20 13 32\n",
      " 23  2 57 56 49 30 29 27 42 24 46 36 31 41 63 43 62 33 70 35 38 40 26 60\n",
      " 34 37 52 51 58 39 55]\n"
     ]
    }
   ],
   "source": [
    "# find unique values in cat features\n",
    "\n",
    "df['duration'] = df['duration'].astype('int64')\n",
    "for col in df[['car_feature_1','car_feature_2','car_feature_3','car_feature_4','car_feature_5','car_feature_6','car_feature_7','car_feature_8','car_feature_9','car_feature_10','car_feature_11','query_feature_1','query_feature_2','query_feature_3','duration']]:\n",
    "    print(col, df[col].unique())\n",
    "\n"
   ]
  },
  {
   "cell_type": "markdown",
   "metadata": {},
   "source": [
    "### Check for missing values\n"
   ]
  },
  {
   "cell_type": "code",
   "execution_count": 5,
   "metadata": {},
   "outputs": [
    {
     "data": {
      "text/plain": [
       "<AxesSubplot:>"
      ]
     },
     "execution_count": 5,
     "metadata": {},
     "output_type": "execute_result"
    },
    {
     "data": {
      "image/png": "[encoded data removed]",
      "text/plain": [
       "<Figure size 720x360 with 1 Axes>"
      ]
     },
     "metadata": {
      "needs_background": "light"
     },
     "output_type": "display_data"
    }
   ],
   "source": [
    "# Plot missing values in each column\n",
    "df.isnull().sum().plot(kind='bar', figsize=(10, 5))"
   ]
  },
  {
   "cell_type": "markdown",
   "metadata": {},
   "source": [
    "#### Fill na with mean value"
   ]
  },
  {
   "cell_type": "code",
   "execution_count": 6,
   "metadata": {},
   "outputs": [
    {
     "name": "stdout",
     "output_type": "stream",
     "text": [
      "column name cont_car_feature_4 has 13197 missing values\n"
     ]
    }
   ],
   "source": [
    "print('column name cont_car_feature_4 has {} missing values'.format(df['cont_car_feature_4'].isnull().sum()))"
   ]
  },
  {
   "cell_type": "code",
   "execution_count": 7,
   "metadata": {},
   "outputs": [
    {
     "name": "stdout",
     "output_type": "stream",
     "text": [
      "column name cont_car_feature_4 has 0 missing values after filling missing values with the mean\n"
     ]
    }
   ],
   "source": [
    "\n",
    "df['cont_car_feature_4'].fillna(df['cont_car_feature_4'].mean(), inplace=True)\n",
    "print('column name cont_car_feature_4 has {} missing values after filling missing values with the mean'.format(df['cont_car_feature_4'].isnull().sum()))"
   ]
  },
  {
   "cell_type": "markdown",
   "metadata": {},
   "source": [
    "### Check Pearson correlation amongst continuous variables"
   ]
  },
  {
   "cell_type": "code",
   "execution_count": 8,
   "metadata": {},
   "outputs": [
    {
     "name": "stdout",
     "output_type": "stream",
     "text": [
      "From the heatmap we can see that there is no strong correlation amongst the continuous features\n"
     ]
    },
    {
     "data": {
      "image/png": "[encoded data removed]",
      "text/plain": [
       "<Figure size 432x288 with 2 Axes>"
      ]
     },
     "metadata": {
      "needs_background": "light"
     },
     "output_type": "display_data"
    }
   ],
   "source": [
    "# Plot correlation matrix\n",
    "import seaborn as sns\n",
    "corr = df[['cont_car_feature_1', 'cont_car_feature_2', 'cont_car_feature_3', 'cont_car_feature_4','price']].corr()\n",
    "sns.heatmap(corr, annot=True)\n",
    "print(\"From the heatmap we can see that there is no strong correlation amongst the continuous features\")\n"
   ]
  },
  {
   "cell_type": "markdown",
   "metadata": {},
   "source": [
    "### Descriptive statistics of continuous variables. The cell below shows the point estimates of continous variables."
   ]
  },
  {
   "cell_type": "code",
   "execution_count": 9,
   "metadata": {},
   "outputs": [
    {
     "name": "stderr",
     "output_type": "stream",
     "text": [
      "<ipython-input-9-1734c3a2234c>:2: FutureWarning: Indexing with multiple keys (implicitly converted to a tuple of keys) will be deprecated, use a list instead.\n",
      "  df.groupby('target')['cont_car_feature_1', 'cont_car_feature_2', 'cont_car_feature_3', 'cont_car_feature_4','price'].median()\n"
     ]
    },
    {
     "data": {
      "text/html": [
       "<div>\n",
       "<style scoped>\n",
       "    .dataframe tbody tr th:only-of-type {\n",
       "        vertical-align: middle;\n",
       "    }\n",
       "\n",
       "    .dataframe tbody tr th {\n",
       "        vertical-align: top;\n",
       "    }\n",
       "\n",
       "    .dataframe thead th {\n",
       "        text-align: right;\n",
       "    }\n",
       "</style>\n",
       "<table border=\"1\" class=\"dataframe\">\n",
       "  <thead>\n",
       "    <tr style=\"text-align: right;\">\n",
       "      <th></th>\n",
       "      <th>cont_car_feature_1</th>\n",
       "      <th>cont_car_feature_2</th>\n",
       "      <th>cont_car_feature_3</th>\n",
       "      <th>cont_car_feature_4</th>\n",
       "      <th>price</th>\n",
       "    </tr>\n",
       "    <tr>\n",
       "      <th>target</th>\n",
       "      <th></th>\n",
       "      <th></th>\n",
       "      <th></th>\n",
       "      <th></th>\n",
       "      <th></th>\n",
       "    </tr>\n",
       "  </thead>\n",
       "  <tbody>\n",
       "    <tr>\n",
       "      <th>0</th>\n",
       "      <td>5</td>\n",
       "      <td>3</td>\n",
       "      <td>5</td>\n",
       "      <td>7.0</td>\n",
       "      <td>437.39</td>\n",
       "    </tr>\n",
       "    <tr>\n",
       "      <th>1</th>\n",
       "      <td>5</td>\n",
       "      <td>2</td>\n",
       "      <td>5</td>\n",
       "      <td>6.0</td>\n",
       "      <td>280.38</td>\n",
       "    </tr>\n",
       "  </tbody>\n",
       "</table>\n",
       "</div>"
      ],
      "text/plain": [
       "        cont_car_feature_1  cont_car_feature_2  cont_car_feature_3  \\\n",
       "target                                                               \n",
       "0                        5                   3                   5   \n",
       "1                        5                   2                   5   \n",
       "\n",
       "        cont_car_feature_4   price  \n",
       "target                              \n",
       "0                      7.0  437.39  \n",
       "1                      6.0  280.38  "
      ]
     },
     "execution_count": 9,
     "metadata": {},
     "output_type": "execute_result"
    }
   ],
   "source": [
    "# Median\n",
    "df.groupby('target')['cont_car_feature_1', 'cont_car_feature_2', 'cont_car_feature_3', 'cont_car_feature_4','price'].median()"
   ]
  },
  {
   "cell_type": "code",
   "execution_count": 10,
   "metadata": {},
   "outputs": [
    {
     "name": "stderr",
     "output_type": "stream",
     "text": [
      "<ipython-input-10-5c7482d6daa3>:2: FutureWarning: Indexing with multiple keys (implicitly converted to a tuple of keys) will be deprecated, use a list instead.\n",
      "  df.groupby('target')['cont_car_feature_1', 'cont_car_feature_2', 'cont_car_feature_3', 'cont_car_feature_4','price'].mean()\n"
     ]
    },
    {
     "data": {
      "text/html": [
       "<div>\n",
       "<style scoped>\n",
       "    .dataframe tbody tr th:only-of-type {\n",
       "        vertical-align: middle;\n",
       "    }\n",
       "\n",
       "    .dataframe tbody tr th {\n",
       "        vertical-align: top;\n",
       "    }\n",
       "\n",
       "    .dataframe thead th {\n",
       "        text-align: right;\n",
       "    }\n",
       "</style>\n",
       "<table border=\"1\" class=\"dataframe\">\n",
       "  <thead>\n",
       "    <tr style=\"text-align: right;\">\n",
       "      <th></th>\n",
       "      <th>cont_car_feature_1</th>\n",
       "      <th>cont_car_feature_2</th>\n",
       "      <th>cont_car_feature_3</th>\n",
       "      <th>cont_car_feature_4</th>\n",
       "      <th>price</th>\n",
       "    </tr>\n",
       "    <tr>\n",
       "      <th>target</th>\n",
       "      <th></th>\n",
       "      <th></th>\n",
       "      <th></th>\n",
       "      <th></th>\n",
       "      <th></th>\n",
       "    </tr>\n",
       "  </thead>\n",
       "  <tbody>\n",
       "    <tr>\n",
       "      <th>0</th>\n",
       "      <td>4.531307</td>\n",
       "      <td>2.841947</td>\n",
       "      <td>5.216280</td>\n",
       "      <td>6.828082</td>\n",
       "      <td>628.979331</td>\n",
       "    </tr>\n",
       "    <tr>\n",
       "      <th>1</th>\n",
       "      <td>4.716609</td>\n",
       "      <td>2.653277</td>\n",
       "      <td>5.084032</td>\n",
       "      <td>6.731675</td>\n",
       "      <td>333.881730</td>\n",
       "    </tr>\n",
       "  </tbody>\n",
       "</table>\n",
       "</div>"
      ],
      "text/plain": [
       "        cont_car_feature_1  cont_car_feature_2  cont_car_feature_3  \\\n",
       "target                                                               \n",
       "0                 4.531307            2.841947            5.216280   \n",
       "1                 4.716609            2.653277            5.084032   \n",
       "\n",
       "        cont_car_feature_4       price  \n",
       "target                                  \n",
       "0                 6.828082  628.979331  \n",
       "1                 6.731675  333.881730  "
      ]
     },
     "execution_count": 10,
     "metadata": {},
     "output_type": "execute_result"
    }
   ],
   "source": [
    "# Mean\n",
    "df.groupby('target')['cont_car_feature_1', 'cont_car_feature_2', 'cont_car_feature_3', 'cont_car_feature_4','price'].mean()"
   ]
  },
  {
   "cell_type": "markdown",
   "metadata": {},
   "source": [
    "### Label encoding for car_feature_9 and query_feature_3"
   ]
  },
  {
   "cell_type": "code",
   "execution_count": 11,
   "metadata": {},
   "outputs": [],
   "source": [
    "## Label encoding for car_feature_9 and query_feature_3\n",
    "from sklearn.preprocessing import LabelEncoder\n",
    "le = LabelEncoder()\n",
    "df['car_feature_9'] = le.fit_transform(df['car_feature_9'])\n",
    "df['query_feature_3'] = le.fit_transform(df['query_feature_3'])"
   ]
  },
  {
   "cell_type": "markdown",
   "metadata": {},
   "source": [
    "## Distribution of categorical variables booked and not booked vehicles population.\n",
    "\n",
    "\n"
   ]
  },
  {
   "cell_type": "code",
   "execution_count": 12,
   "metadata": {},
   "outputs": [],
   "source": [
    "cat_features = df[['car_feature_1','car_feature_2','car_feature_3','car_feature_4','car_feature_5','car_feature_6','car_feature_7','car_feature_8',\n",
    "        'car_feature_9','car_feature_10','car_feature_11','query_feature_1','query_feature_2','query_feature_3','duration','target']]\n",
    "def plot_ratios(df:pd.DataFrame)-> pd.DataFrame:\n",
    "    \"\"\"\n",
    "    __summary__: This function returns the ratio of each category in a categorical feature for their respective target values\n",
    "    parameter:\n",
    "        df {pd.DataFrame} : The dataframe containing the categorical feature and the target\n",
    "    return:\n",
    "        pd.DataFrame : The dataframe containing the ratio of each category in a categorical feature for their respective target values\n",
    "\n",
    "    \"\"\"\n",
    "    ratio_ = pd.DataFrame()\n",
    "    for i in df.target.unique():\n",
    "        target_df = df[df['target'] == i]\n",
    "        for col in target_df.columns.unique():\n",
    "            col_df = target_df[col].value_counts()/target_df.shape[0]\n",
    "            col_df = col_df.reset_index()\n",
    "            col_df.columns = [col, 'ratio']\n",
    "            col_df['target'] = i\n",
    "            ratio_ = pd.concat([ratio_, col_df], axis=0)\n",
    "    return ratio_\n",
    "data_ratio = plot_ratios(cat_features)  \n",
    "\n",
    "data_ratio = data_ratio.reset_index()\n",
    "data_ratio = data_ratio.drop('index', axis=1)\n"
   ]
  },
  {
   "cell_type": "code",
   "execution_count": 14,
   "metadata": {},
   "outputs": [
    {
     "data": {
      "text/plain": [
       "<AxesSubplot:xlabel='car_feature_7', ylabel='ratio'>"
      ]
     },
     "execution_count": 14,
     "metadata": {},
     "output_type": "execute_result"
    },
    {
     "data": {
      "image/png": "[encoded data removed]",
      "text/plain": [
       "<Figure size 1440x360 with 4 Axes>"
      ]
     },
     "metadata": {
      "needs_background": "light"
     },
     "output_type": "display_data"
    },
    {
     "data": {
      "image/png": "[encoded data removed]",
      "text/plain": [
       "<Figure size 1440x360 with 3 Axes>"
      ]
     },
     "metadata": {
      "needs_background": "light"
     },
     "output_type": "display_data"
    }
   ],
   "source": [
    "fig, ax = plt.subplots(1, 4, figsize=(20, 5))\n",
    "sns.barplot(x='car_feature_1', y='ratio', hue='target', data=data_ratio, ax=ax[0])\n",
    "sns.barplot(x='car_feature_2', y='ratio', hue='target', data=data_ratio, ax=ax[1])\n",
    "sns.barplot(x='car_feature_3', y='ratio', hue='target', data=data_ratio, ax=ax[2])\n",
    "sns.barplot(x='car_feature_4', y='ratio', hue='target', data=data_ratio, ax=ax[3])\n",
    "\n",
    "\n",
    "\n",
    "fig, ax = plt.subplots(1, 3, figsize=(20, 5))\n",
    "sns.barplot(x='car_feature_5', y='ratio', hue='target', data=data_ratio, ax=ax[0])\n",
    "sns.barplot(x='car_feature_6', y='ratio', hue='target', data=data_ratio, ax=ax[1])\n",
    "sns.barplot(x='car_feature_7', y='ratio', hue='target', data=data_ratio, ax=ax[2])"
   ]
  },
  {
   "cell_type": "markdown",
   "metadata": {},
   "source": [
    "### From above ratio plots we can see that category 1 from car_feature_1, car_feature_2, car_feature_3, car_feature_4, car_feature_5, car_feature_7 have been used more when it comes to booking a vehicle."
   ]
  },
  {
   "cell_type": "code",
   "execution_count": 15,
   "metadata": {},
   "outputs": [
    {
     "data": {
      "text/plain": [
       "<AxesSubplot:xlabel='car_feature_8', ylabel='ratio'>"
      ]
     },
     "execution_count": 15,
     "metadata": {},
     "output_type": "execute_result"
    },
    {
     "data": {
      "image/png": "[encoded data removed]",
      "text/plain": [
       "<Figure size 1440x360 with 1 Axes>"
      ]
     },
     "metadata": {
      "needs_background": "light"
     },
     "output_type": "display_data"
    }
   ],
   "source": [
    "fig, ax = plt.subplots(1, figsize=(20, 5))\n",
    "sns.barplot(x='car_feature_8', y='ratio', hue='target', data=data_ratio)"
   ]
  },
  {
   "cell_type": "markdown",
   "metadata": {},
   "source": [
    "### From above ratio plot we can see that category 2 from car_feature_8 have been used significantly more compared to non booked vehicle when it comes to booking a vehicle."
   ]
  },
  {
   "cell_type": "code",
   "execution_count": 16,
   "metadata": {},
   "outputs": [
    {
     "data": {
      "text/plain": [
       "<AxesSubplot:xlabel='car_feature_9', ylabel='ratio'>"
      ]
     },
     "execution_count": 16,
     "metadata": {},
     "output_type": "execute_result"
    },
    {
     "data": {
      "image/png": "[encoded data removed]",
      "text/plain": [
       "<Figure size 1440x360 with 1 Axes>"
      ]
     },
     "metadata": {
      "needs_background": "light"
     },
     "output_type": "display_data"
    }
   ],
   "source": [
    "fig, ax = plt.subplots(1, figsize=(20, 5))\n",
    "sns.barplot(x='car_feature_9', y='ratio', hue='target', data=data_ratio)"
   ]
  },
  {
   "cell_type": "markdown",
   "metadata": {},
   "source": [
    "### From above ratio plot we can see that category 4 from car_feature_9 have been used significantly more when it comes to booking a vehicle."
   ]
  },
  {
   "cell_type": "code",
   "execution_count": 18,
   "metadata": {},
   "outputs": [
    {
     "data": {
      "text/plain": [
       "<AxesSubplot:xlabel='car_feature_11', ylabel='ratio'>"
      ]
     },
     "execution_count": 18,
     "metadata": {},
     "output_type": "execute_result"
    },
    {
     "data": {
      "image/png": "[encoded data removed]",
      "text/plain": [
       "<Figure size 1440x360 with 2 Axes>"
      ]
     },
     "metadata": {
      "needs_background": "light"
     },
     "output_type": "display_data"
    }
   ],
   "source": [
    "fig, ax = plt.subplots(1, 2, figsize=(20, 5))\n",
    "sns.barplot(x='car_feature_10', y='ratio', hue='target', data=data_ratio, ax=ax[0])\n",
    "sns.barplot(x='car_feature_11', y='ratio', hue='target', data=data_ratio, ax=ax[1])\n"
   ]
  },
  {
   "cell_type": "markdown",
   "metadata": {},
   "source": [
    "## Catergory 0 from car_feature_11 have been used more when it comes to booking a vehicle. Category 3 from car_feature_10 have been used significantly more than other categories when it comes to booking a vehicle."
   ]
  },
  {
   "cell_type": "code",
   "execution_count": 19,
   "metadata": {},
   "outputs": [
    {
     "data": {
      "text/plain": [
       "<AxesSubplot:xlabel='query_feature_1', ylabel='ratio'>"
      ]
     },
     "execution_count": 19,
     "metadata": {},
     "output_type": "execute_result"
    },
    {
     "data": {
      "image/png": "[encoded data removed]",
      "text/plain": [
       "<Figure size 1440x360 with 1 Axes>"
      ]
     },
     "metadata": {
      "needs_background": "light"
     },
     "output_type": "display_data"
    }
   ],
   "source": [
    "fig, ax = plt.subplots(1, figsize=(20, 5))\n",
    "sns.barplot(x='query_feature_1', y='ratio', hue='target', data=data_ratio)"
   ]
  },
  {
   "cell_type": "markdown",
   "metadata": {},
   "source": [
    "## Catergory 1 from query_feature_1 have been used more compared to other categories when it comes to booking a vehicle."
   ]
  },
  {
   "cell_type": "code",
   "execution_count": 28,
   "metadata": {},
   "outputs": [
    {
     "data": {
      "text/plain": [
       "<AxesSubplot:xlabel='duration', ylabel='ratio'>"
      ]
     },
     "execution_count": 28,
     "metadata": {},
     "output_type": "execute_result"
    },
    {
     "data": {
      "image/png": "[encoded data removed]",
      "text/plain": [
       "<Figure size 1440x360 with 4 Axes>"
      ]
     },
     "metadata": {
      "needs_background": "light"
     },
     "output_type": "display_data"
    },
    {
     "data": {
      "image/png": "[encoded data removed]",
      "text/plain": [
       "<Figure size 1440x360 with 1 Axes>"
      ]
     },
     "metadata": {
      "needs_background": "light"
     },
     "output_type": "display_data"
    }
   ],
   "source": [
    "fig, ax = plt.subplots(1, 4, figsize=(20, 5))\n",
    "sns.barplot(x='car_feature_10', y='ratio', hue='target', data=data_ratio, ax=ax[0])\n",
    "sns.barplot(x='car_feature_11', y='ratio', hue='target', data=data_ratio, ax=ax[1])\n",
    "sns.barplot(x='query_feature_2', y='ratio', hue='target', data=data_ratio, ax=ax[2])\n",
    "sns.barplot(x='query_feature_3', y='ratio', hue='target', data=data_ratio, ax=ax[3])\n",
    "\n",
    "\n",
    "fig, ax = plt.subplots(1 ,figsize=(20, 5))\n",
    "sns.barplot(x='duration', y='ratio', hue='target', data=data_ratio)"
   ]
  },
  {
   "cell_type": "markdown",
   "metadata": {},
   "source": [
    "\n",
    "### Category 3 from car_feature_10 have been used significantly more than other categories when it comes to booking a vehicle. Vehicles are generally booked for 7 days and 14 days."
   ]
  },
  {
   "cell_type": "code",
   "execution_count": 31,
   "metadata": {},
   "outputs": [
    {
     "data": {
      "text/plain": [
       "7     268184\n",
       "14    130225\n",
       "4      95697\n",
       "8      95034\n",
       "10     62035\n",
       "5      61655\n",
       "3      58083\n",
       "9      53095\n",
       "6      52058\n",
       "15     37734\n",
       "11     35161\n",
       "12     21747\n",
       "13     20048\n",
       "16     19004\n",
       "2      18478\n",
       "21     16934\n",
       "17     10089\n",
       "28      8904\n",
       "18      7749\n",
       "22      4914\n",
       "23      4819\n",
       "19      4129\n",
       "1       3654\n",
       "27      2732\n",
       "25      2718\n",
       "30      2687\n",
       "24      2648\n",
       "20      1780\n",
       "29      1289\n",
       "26      1137\n",
       "32       760\n",
       "35       363\n",
       "42       354\n",
       "31       334\n",
       "49       317\n",
       "38       276\n",
       "36       251\n",
       "37       215\n",
       "57       165\n",
       "62       162\n",
       "56       144\n",
       "33       115\n",
       "39       107\n",
       "41       106\n",
       "43       103\n",
       "46        92\n",
       "52        90\n",
       "51        85\n",
       "58        64\n",
       "55        63\n",
       "40        40\n",
       "63        39\n",
       "70        36\n",
       "34        32\n",
       "60        31\n",
       "Name: duration, dtype: int64"
      ]
     },
     "execution_count": 31,
     "metadata": {},
     "output_type": "execute_result"
    }
   ],
   "source": [
    "df.duration.value_counts()"
   ]
  },
  {
   "cell_type": "markdown",
   "metadata": {},
   "source": [
    "### Mutual information between categorical variables and target variable. It is used to see the dependency between categorical variables on target variable."
   ]
  },
  {
   "cell_type": "code",
   "execution_count": 29,
   "metadata": {},
   "outputs": [
    {
     "data": {
      "text/plain": [
       "array([0.13978057, 0.20405632, 0.07144668, 0.08299697, 0.13961819,\n",
       "       0.21188879, 0.00839818, 0.02423653, 0.0084923 , 0.17944296,\n",
       "       0.01394509, 0.05738655, 0.14295853, 0.03896098, 0.01966728])"
      ]
     },
     "execution_count": 29,
     "metadata": {},
     "output_type": "execute_result"
    }
   ],
   "source": [
    "from sklearn.feature_selection import mutual_info_classif as MIC\n",
    "X = df[['car_feature_1', 'car_feature_2', 'car_feature_3', 'car_feature_4', 'car_feature_5', 'car_feature_6', 'car_feature_7', 'car_feature_8', 'car_feature_9', 'car_feature_10', 'car_feature_11', 'query_feature_1', 'query_feature_2', 'query_feature_3','duration']]\n",
    "y =  df['target']\n",
    "mic = MIC(X,y)\n",
    "mic"
   ]
  },
  {
   "cell_type": "code",
   "execution_count": 30,
   "metadata": {},
   "outputs": [
    {
     "data": {
      "image/png": "[encoded data removed]",
      "text/plain": [
       "<Figure size 720x360 with 1 Axes>"
      ]
     },
     "metadata": {
      "needs_background": "light"
     },
     "output_type": "display_data"
    }
   ],
   "source": [
    "# Plot mic\n",
    "plt.figure(figsize=(10, 5))\n",
    "plt.bar(X.columns, mic)\n",
    "plt.xticks(rotation=90)\n",
    "plt.show()"
   ]
  },
  {
   "cell_type": "markdown",
   "metadata": {},
   "source": [
    "### Based on the MI score, i.e. the measure of dependeny between <ins> car_feature_6 (unique values - 0, 1) and target variable <ins> is the highest followed by car_feature_2 (unique values - 0,1 ) and car_feature_10 (unique values: 3,  2, 13, 15, 17, 12). These categorical features are key features behind the purchasing decision of the customer."
   ]
  },
  {
   "cell_type": "markdown",
   "metadata": {},
   "source": [
    "## Pricing"
   ]
  },
  {
   "cell_type": "markdown",
   "metadata": {},
   "source": [
    "#### Check for normality using Shapiro-Wilk test"
   ]
  },
  {
   "cell_type": "code",
   "execution_count": 32,
   "metadata": {},
   "outputs": [
    {
     "name": "stdout",
     "output_type": "stream",
     "text": [
      "Statistics=0.574, p=0.000\n",
      "The price of cars not booked does not follow a Gaussian distribution\n",
      "Statistics=0.758, p=0.000\n",
      "The price of cars booked does not follow a Gaussian distribution\n"
     ]
    },
    {
     "name": "stderr",
     "output_type": "stream",
     "text": [
      "C:\\Users\\viraj\\AppData\\Roaming\\Python\\Python38\\site-packages\\scipy\\stats\\morestats.py:1681: UserWarning: p-value may not be accurate for N > 5000.\n",
      "  warnings.warn(\"p-value may not be accurate for N > 5000.\")\n"
     ]
    }
   ],
   "source": [
    "# shapiro wilk test to check if the price for cars not booked is normally distributed \n",
    "from scipy.stats import shapiro\n",
    "stat, p = shapiro(df[df['target'] == 0]['price'])\n",
    "print('Statistics=%.3f, p=%.3f' % (stat, p))\n",
    "if p > 0.05:\n",
    "    print('The price of cars not booked follows a Gaussian distribution')\n",
    "else:\n",
    "    print('The price of cars not booked does not follow a Gaussian distribution')\n",
    "\n",
    "\n",
    "# shapiro wilk test to check if the price for cars booked is normally distributed \n",
    "from scipy.stats import shapiro\n",
    "stat, p = shapiro(df[df['target'] == 1]['price'])\n",
    "print('Statistics=%.3f, p=%.3f' % (stat, p))\n",
    "if p > 0.05:\n",
    "    print('The price of cars booked follows a Gaussian distribution')\n",
    "else:\n",
    "    print('The price of cars booked does not follow a Gaussian distribution')"
   ]
  },
  {
   "cell_type": "markdown",
   "metadata": {},
   "source": [
    "### Check for outliers and remove outliers using IQR"
   ]
  },
  {
   "cell_type": "code",
   "execution_count": 33,
   "metadata": {},
   "outputs": [],
   "source": [
    "## remove outliers from the price column for target = 0 using IQR\n",
    "q1 = df[df['target'] == 0]['price'].quantile(0.25)\n",
    "q3 = df[df['target'] == 0]['price'].quantile(0.75)\n",
    "iqr = q3 - q1\n",
    "df = df[~((df['target'] == 0) & (df['price'] < (q1 - 1.5 * iqr)) | (df['price'] > (q3 + 1.5 * iqr)))]\n"
   ]
  },
  {
   "cell_type": "code",
   "execution_count": 34,
   "metadata": {},
   "outputs": [],
   "source": [
    "## remove outliers from the price column for target = 1 using IQR\n",
    "q1 = df[df['target'] == 1]['price'].quantile(0.25)\n",
    "q3 = df[df['target'] == 1]['price'].quantile(0.75)\n",
    "iqr = q3 - q1\n",
    "df = df[~((df['target'] == 1) & (df['price'] < (q1 - 1.5 * iqr)) | (df['price'] > (q3 + 1.5 * iqr)))]\n"
   ]
  },
  {
   "cell_type": "code",
   "execution_count": 35,
   "metadata": {},
   "outputs": [
    {
     "data": {
      "text/plain": [
       "(792802, 25)"
      ]
     },
     "execution_count": 35,
     "metadata": {},
     "output_type": "execute_result"
    }
   ],
   "source": [
    "df.shape"
   ]
  },
  {
   "cell_type": "code",
   "execution_count": 36,
   "metadata": {},
   "outputs": [
    {
     "name": "stdout",
     "output_type": "stream",
     "text": [
      "Range of price for booked cars 502.28\n",
      "Range of price for cars not booked 507.56\n"
     ]
    },
    {
     "data": {
      "text/plain": [
       "<AxesSubplot:xlabel='target', ylabel='price'>"
      ]
     },
     "execution_count": 36,
     "metadata": {},
     "output_type": "execute_result"
    },
    {
     "data": {
      "image/png": "[encoded data removed]",
      "text/plain": [
       "<Figure size 720x360 with 1 Axes>"
      ]
     },
     "metadata": {
      "needs_background": "light"
     },
     "output_type": "display_data"
    }
   ],
   "source": [
    "# calculate range of price\n",
    "print('Range of price for booked cars {}'.format(df[df['target'] == 1]['price'].max() - df[df['target'] == 1]['price'].min()))\n",
    "print('Range of price for cars not booked {}'.format(df[df['target'] == 0]['price'].max() - df[df['target'] == 0]['price'].min()))\n",
    "\n",
    "\n",
    "import seaborn as sns\n",
    "# box plot of price by target\n",
    "fig, ax = plt.subplots(figsize=(10, 5))\n",
    "sns.boxplot(x='target', y='price', data=df, ax=ax)"
   ]
  },
  {
   "cell_type": "markdown",
   "metadata": {},
   "source": [
    "#### Distribution of price for booked and not booked samples"
   ]
  },
  {
   "cell_type": "code",
   "execution_count": 37,
   "metadata": {},
   "outputs": [
    {
     "name": "stderr",
     "output_type": "stream",
     "text": [
      "c:\\ProgramData\\Anaconda3\\lib\\site-packages\\seaborn\\distributions.py:2557: FutureWarning: `distplot` is a deprecated function and will be removed in a future version. Please adapt your code to use either `displot` (a figure-level function with similar flexibility) or `histplot` (an axes-level function for histograms).\n",
      "  warnings.warn(msg, FutureWarning)\n",
      "c:\\ProgramData\\Anaconda3\\lib\\site-packages\\seaborn\\distributions.py:2557: FutureWarning: `distplot` is a deprecated function and will be removed in a future version. Please adapt your code to use either `displot` (a figure-level function with similar flexibility) or `histplot` (an axes-level function for histograms).\n",
      "  warnings.warn(msg, FutureWarning)\n"
     ]
    },
    {
     "data": {
      "text/plain": [
       "<matplotlib.legend.Legend at 0x1e52a7ccee0>"
      ]
     },
     "execution_count": 37,
     "metadata": {},
     "output_type": "execute_result"
    },
    {
     "data": {
      "image/png": "[encoded data removed]",
      "text/plain": [
       "<Figure size 720x360 with 1 Axes>"
      ]
     },
     "metadata": {
      "needs_background": "light"
     },
     "output_type": "display_data"
    }
   ],
   "source": [
    "# Distribution of price by target\n",
    "fig, ax = plt.subplots(figsize=(10, 5))\n",
    "sns.distplot(df[df['target'] == 1]['price'], ax=ax, label='Booked')\n",
    "sns.distplot(df[df['target'] == 0]['price'], ax=ax, label='Not Booked')\n",
    "plt.legend()\n"
   ]
  },
  {
   "cell_type": "markdown",
   "metadata": {},
   "source": [
    "#### Calculate confidence interval for pricing for booked and not booked vehicles with bootstrap since the distribution is not Gaussian.\n"
   ]
  },
  {
   "cell_type": "code",
   "execution_count": 38,
   "metadata": {},
   "outputs": [],
   "source": [
    "import numpy as np\n",
    "def calc_bootstrap(data:pd.Series, func, size:int) -> list:\n",
    "\n",
    "    \"\"\"\n",
    "    __Summary__: This function performs bootstrapping\n",
    "\n",
    "    __args__:\n",
    "        data: data to be bootstrapped\n",
    "        func: function to be applied to the data\n",
    "        size: number of samples to be drawn\n",
    "\n",
    "    __return__:\n",
    "        list of bootstrapped values\n",
    "\n",
    "    \"\"\"\n",
    "    bootstrap = []\n",
    "    for i in range(size):\n",
    "        bootstrap.append(func(np.random.choice(data, size=len(data), replace=True)))\n",
    "    return bootstrap\n",
    "\n",
    "# calculate bootstrap for price\n",
    "bootstrap_booked = calc_bootstrap(df[df['target'] == 1]['price'], np.mean, 1000)\n",
    "bootstrap_not_booked = calc_bootstrap(df[df['target'] == 0]['price'], np.mean, 1000)"
   ]
  },
  {
   "cell_type": "code",
   "execution_count": 39,
   "metadata": {},
   "outputs": [
    {
     "data": {
      "image/png": "[encoded data removed]",
      "text/plain": [
       "<Figure size 432x288 with 1 Axes>"
      ]
     },
     "metadata": {
      "needs_background": "light"
     },
     "output_type": "display_data"
    },
    {
     "data": {
      "image/png": "[encoded data removed]",
      "text/plain": [
       "<Figure size 432x288 with 1 Axes>"
      ]
     },
     "metadata": {
      "needs_background": "light"
     },
     "output_type": "display_data"
    }
   ],
   "source": [
    "# calculate 95% confidence interval for booked cars\n",
    "plt.hist(bootstrap_booked,bins=30)\n",
    "\n",
    "# Showing the related percentiles \n",
    "plt.axvline(x=np.percentile(bootstrap_booked,[2.5]), ymin=0, ymax=1,label='2.5th percentile',c='y')\n",
    "plt.axvline(x=np.percentile(bootstrap_booked,[97.5]), ymin=0, ymax=1,label='97.5th percentile',c='r')\n",
    "\n",
    "plt.xlabel(\"Price for booked cars\")\n",
    "plt.ylabel(\"PDF\")\n",
    "plt.title(\"Probability Density Function\")\n",
    "plt.legend()\n",
    "plt.show()\n",
    "\n",
    "\n",
    "# calculate 95% confidence interval for not booked cars\n",
    "plt.hist(bootstrap_not_booked,bins=30)\n",
    "\n",
    "# Showing the related percentiles \n",
    "plt.axvline(x=np.percentile(bootstrap_not_booked,[2.5]), ymin=0, ymax=1,label='2.5th percentile',c='y')\n",
    "plt.axvline(x=np.percentile(bootstrap_not_booked,[97.5]), ymin=0, ymax=1,label='97.5th percentile',c='r')\n",
    "\n",
    "plt.xlabel(\"Price for booked cars\")\n",
    "plt.ylabel(\"PDF\")\n",
    "plt.title(\"Probability Density Function\")\n",
    "plt.legend()\n",
    "plt.show()"
   ]
  },
  {
   "cell_type": "code",
   "execution_count": 40,
   "metadata": {},
   "outputs": [
    {
     "name": "stdout",
     "output_type": "stream",
     "text": [
      "Confidence interval for booked cars is [301.90691092 309.17806094]\n"
     ]
    }
   ],
   "source": [
    "Conf_interval = np.percentile(bootstrap_booked, [2.5, 97.5])\n",
    "print('Confidence interval for booked cars is {}'.format(Conf_interval))\n"
   ]
  },
  {
   "cell_type": "code",
   "execution_count": 41,
   "metadata": {},
   "outputs": [
    {
     "name": "stdout",
     "output_type": "stream",
     "text": [
      "Confidence interval for booked cars is [370.37146318 370.95824394]\n"
     ]
    }
   ],
   "source": [
    "Conf_interval = np.percentile(bootstrap_not_booked, [2.5, 97.5])\n",
    "print('Confidence interval for booked cars is {}'.format(Conf_interval))\n"
   ]
  },
  {
   "cell_type": "markdown",
   "metadata": {},
   "source": [
    "### Since the 95% confidence interval for booked and not booked vehicle prices do not overlap, we can conclude that there is a statistically significant difference in the price of booked and not booked vehicles."
   ]
  },
  {
   "cell_type": "markdown",
   "metadata": {},
   "source": [
    "### Further testing to test significance. \n",
    "Perform Independent Two Sample t-Test pricing to determine if there is a significant difference in the mean of the booked cars and the mean of the unbooked cars"
   ]
  },
  {
   "cell_type": "code",
   "execution_count": 42,
   "metadata": {},
   "outputs": [
    {
     "name": "stderr",
     "output_type": "stream",
     "text": [
      "<ipython-input-42-336a292f8e8f>:9: SettingWithCopyWarning: \n",
      "A value is trying to be set on a copy of a slice from a DataFrame.\n",
      "Try using .loc[row_indexer,col_indexer] = value instead\n",
      "\n",
      "See the caveats in the documentation: https://pandas.pydata.org/pandas-docs/stable/user_guide/indexing.html#returning-a-view-versus-a-copy\n",
      "  df_target_0['price_transformed'] = boxcox(df_target_0['price'], 0)\n",
      "<ipython-input-42-336a292f8e8f>:10: SettingWithCopyWarning: \n",
      "A value is trying to be set on a copy of a slice from a DataFrame.\n",
      "Try using .loc[row_indexer,col_indexer] = value instead\n",
      "\n",
      "See the caveats in the documentation: https://pandas.pydata.org/pandas-docs/stable/user_guide/indexing.html#returning-a-view-versus-a-copy\n",
      "  df_target_1['price_transformed'] = boxcox(df_target_1['price'], 0)\n"
     ]
    }
   ],
   "source": [
    "# Perform box cox transformation on price to make it Gaussian.\n",
    "\n",
    "from scipy.stats import boxcox\n",
    "# select data where target = 1\n",
    "df_target_1 = df[df['target'] == 1]\n",
    "# select data where target = 0\n",
    "df_target_0 = df[df['target'] == 0]\n",
    "# transform data\n",
    "df_target_0['price_transformed'] = boxcox(df_target_0['price'], 0)\n",
    "df_target_1['price_transformed'] = boxcox(df_target_1['price'], 0)"
   ]
  },
  {
   "cell_type": "code",
   "execution_count": 43,
   "metadata": {},
   "outputs": [
    {
     "name": "stdout",
     "output_type": "stream",
     "text": [
      "Statistics=-34.879, p=0.000\n",
      "The price of cars booked is significantly different from the price of cars not booked\n"
     ]
    }
   ],
   "source": [
    "# Peform Independent t-test to check if the price of cars booked is significantly different from the price of cars not booked\n",
    "\n",
    "from scipy.stats import ttest_ind\n",
    "stat, p = ttest_ind(df_target_1['price_transformed'], df_target_0['price_transformed'])\n",
    "print('Statistics=%.3f, p=%.3f' % (stat, p))\n",
    "if p > 0.05:\n",
    "    print('The price of cars booked is not significantly different from the price of cars not booked')\n",
    "else:\n",
    "    print('The price of cars booked is significantly different from the price of cars not booked')\n"
   ]
  },
  {
   "cell_type": "markdown",
   "metadata": {},
   "source": [
    "### 95% CI for the population mean price of booked cars is [301.89215638, 309.11135853] and 95% CI for the population mean price of unbooked cars is [370.36112329, 370.94803343]. Since the means of prices for booked and cars not booked are significantly different, we can conclude that price has a large impact on whether a car is booked or not."
   ]
  },
  {
   "cell_type": "markdown",
   "metadata": {},
   "source": [
    "## •\tWhat are the key features behind purchasing a vehicle?\n",
    "\n",
    "### From the above analysis we can say that car feature 6, car feature 2 and car feature 10 and pricing are the key features behind purchasing a vehicle.\n"
   ]
  },
  {
   "cell_type": "markdown",
   "metadata": {},
   "source": [
    "# •\tHow large an influence is the price on customer’s purchasing behaviour?\n",
    "\n",
    "### From the above analysis we can say that price has a large impact on whether a car is booked or not.\n"
   ]
  }
 ],
 "metadata": {
  "kernelspec": {
   "display_name": "Python 3.8.8 ('base')",
   "language": "python",
   "name": "python3"
  },
  "language_info": {
   "codemirror_mode": {
    "name": "ipython",
    "version": 3
   },
   "file_extension": ".py",
   "mimetype": "text/x-python",
   "name": "python",
   "nbconvert_exporter": "python",
   "pygments_lexer": "ipython3",
   "version": "3.8.8"
  },
  "orig_nbformat": 4,
  "vscode": {
   "interpreter": {
    "hash": "ad2bdc8ecc057115af97d19610ffacc2b4e99fae6737bb82f5d7fb13d2f2c186"
   }
  }
 },
 "nbformat": 4,
 "nbformat_minor": 2
}
